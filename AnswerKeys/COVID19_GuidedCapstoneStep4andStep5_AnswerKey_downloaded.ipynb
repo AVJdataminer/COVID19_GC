{
 "cells": [
  {
   "cell_type": "markdown",
   "metadata": {
    "colab_type": "text",
    "id": "view-in-github"
   },
   "source": [
    "<a href=\"https://colab.research.google.com/github/AVJdataminer/COVID19_GC/blob/master/COVID19_GuidedCapstoneStep4andStep5_AnswerKey.ipynb\" target=\"_parent\"><img src=\"https://colab.research.google.com/assets/colab-badge.svg\" alt=\"Open In Colab\"/></a>"
   ]
  },
  {
   "cell_type": "markdown",
   "metadata": {
    "colab_type": "text",
    "id": "cf5CmXQCZyF1"
   },
   "source": [
    "# Guided Capstone Step 4. Pre-processing and Training Data Development - Answer Key"
   ]
  },
  {
   "cell_type": "markdown",
   "metadata": {
    "colab_type": "text",
    "id": "JbZXsVevfr9M"
   },
   "source": [
    "**The Data Science Method**  \n",
    "\n",
    "\n",
    "1.   Problem Identification \n",
    "\n",
    "\n",
    "2.   Data Wrangling \n",
    "  \n",
    " \n",
    "3.   Exploratory Data Analysis   \n",
    "\n",
    "4.   **Pre-processing and Training Data Development**  \n",
    " * Create dummy or indicator features for categorical variables\n",
    "  * Standardize the magnitude of numeric features\n",
    "  * Split into testing and training datasets\n",
    "  * Apply scaler to the testing set\n",
    "5.   Modeling \n",
    "  * Fit Models with Training Data Set\n",
    "  * Review Model Outcomes — Iterate over additional models as needed.\n",
    "  * Identify the Final Model\n",
    "\n",
    "6.   Documentation\n",
    "  * Review the Results\n",
    "  * Present and share your findings - storytelling\n",
    "  * Finalize Code \n",
    "  * Finalize Documentation"
   ]
  },
  {
   "cell_type": "markdown",
   "metadata": {
    "colab_type": "text",
    "id": "K8xfkAqqZyF2"
   },
   "source": [
    "**<font color='DarkBlue'> Start by loading the necessary packages as we did in step 3 and printing out our current working directory just to confirm we are in the correct project directory. </font>**"
   ]
  },
  {
   "cell_type": "code",
   "execution_count": 0,
   "metadata": {
    "colab": {
     "base_uri": "https://localhost:8080/",
     "height": 71
    },
    "colab_type": "code",
    "id": "ry6WPL5eZyF3",
    "outputId": "cd62142f-2ecf-49c0-8667-1571e000a058"
   },
   "outputs": [
    {
     "name": "stderr",
     "output_type": "stream",
     "text": [
      "/usr/local/lib/python3.6/dist-packages/statsmodels/tools/_testing.py:19: FutureWarning: pandas.util.testing is deprecated. Use the functions in the public API at pandas.testing instead.\n",
      "  import pandas.util.testing as tm\n"
     ]
    }
   ],
   "source": [
    "import os\n",
    "import pandas as pd\n",
    "import datetime\n",
    "import seaborn as sns\n",
    "from matplotlib import pyplot as plt\n",
    "import json\n",
    "%matplotlib inline\n",
    "import plotly.graph_objects as go \n",
    "import numpy as np\n",
    "%matplotlib inline\n",
    "#os.listdir()"
   ]
  },
  {
   "cell_type": "markdown",
   "metadata": {
    "colab_type": "text",
    "id": "630T-ogRZyF8"
   },
   "source": [
    "**<font color='DarkBlue'> If you need to change your path refer back to the notebook on steps 1 & 2 on how to do that. Then load the csv file you created in step 3, remember it should be saved inside your data subfolder and print the first five rows.</font>**"
   ]
  },
  {
   "cell_type": "code",
   "execution_count": 0,
   "metadata": {
    "colab": {
     "base_uri": "https://localhost:8080/",
     "height": 338
    },
    "colab_type": "code",
    "id": "dMNbk0u3ZyF9",
    "outputId": "021a0303-ff00-4a51-d0da-d196e2cb3e3b"
   },
   "outputs": [
    {
     "data": {
      "text/html": [
       "<div>\n",
       "<style scoped>\n",
       "    .dataframe tbody tr th:only-of-type {\n",
       "        vertical-align: middle;\n",
       "    }\n",
       "\n",
       "    .dataframe tbody tr th {\n",
       "        vertical-align: top;\n",
       "    }\n",
       "\n",
       "    .dataframe thead th {\n",
       "        text-align: right;\n",
       "    }\n",
       "</style>\n",
       "<table border=\"1\" class=\"dataframe\">\n",
       "  <thead>\n",
       "    <tr style=\"text-align: right;\">\n",
       "      <th></th>\n",
       "      <th>confirmed</th>\n",
       "      <th>deaths</th>\n",
       "      <th>timestamp</th>\n",
       "      <th>province_state</th>\n",
       "      <th>long</th>\n",
       "      <th>country_region</th>\n",
       "      <th>timestamp.date</th>\n",
       "      <th>lat</th>\n",
       "      <th>recovered</th>\n",
       "      <th>date</th>\n",
       "      <th>month</th>\n",
       "      <th>day</th>\n",
       "      <th>doy</th>\n",
       "      <th>confirmed_1_day_pct_change</th>\n",
       "      <th>recovered_1_day_pct_change</th>\n",
       "      <th>deaths_1_day_pct_change</th>\n",
       "      <th>confirmed_2_day_pct_change</th>\n",
       "      <th>recovered_2_day_pct_change</th>\n",
       "      <th>deaths_2_day_pct_change</th>\n",
       "      <th>confirmed_3_day_pct_change</th>\n",
       "      <th>recovered_3_day_pct_change</th>\n",
       "      <th>deaths_3_day_pct_change</th>\n",
       "      <th>confirmed_4_day_pct_change</th>\n",
       "      <th>recovered_4_day_pct_change</th>\n",
       "      <th>deaths_4_day_pct_change</th>\n",
       "      <th>confirmed_5_day_pct_change</th>\n",
       "      <th>recovered_5_day_pct_change</th>\n",
       "      <th>deaths_5_day_pct_change</th>\n",
       "      <th>confirmed_6_day_pct_change</th>\n",
       "      <th>recovered_6_day_pct_change</th>\n",
       "      <th>deaths_6_day_pct_change</th>\n",
       "      <th>confirmed_7_day_pct_change</th>\n",
       "      <th>recovered_7_day_pct_change</th>\n",
       "      <th>deaths_7_day_pct_change</th>\n",
       "      <th>confirmed_8_day_pct_change</th>\n",
       "      <th>recovered_8_day_pct_change</th>\n",
       "      <th>deaths_8_day_pct_change</th>\n",
       "      <th>confirmed_9_day_pct_change</th>\n",
       "      <th>recovered_9_day_pct_change</th>\n",
       "      <th>deaths_9_day_pct_change</th>\n",
       "      <th>...</th>\n",
       "      <th>deaths_16_day_pct_change</th>\n",
       "      <th>confirmed_17_day_pct_change</th>\n",
       "      <th>recovered_17_day_pct_change</th>\n",
       "      <th>deaths_17_day_pct_change</th>\n",
       "      <th>confirmed_18_day_pct_change</th>\n",
       "      <th>recovered_18_day_pct_change</th>\n",
       "      <th>deaths_18_day_pct_change</th>\n",
       "      <th>confirmed_19_day_pct_change</th>\n",
       "      <th>recovered_19_day_pct_change</th>\n",
       "      <th>deaths_19_day_pct_change</th>\n",
       "      <th>confirmed_20_day_pct_change</th>\n",
       "      <th>recovered_20_day_pct_change</th>\n",
       "      <th>deaths_20_day_pct_change</th>\n",
       "      <th>confirmed_21_day_pct_change</th>\n",
       "      <th>recovered_21_day_pct_change</th>\n",
       "      <th>deaths_21_day_pct_change</th>\n",
       "      <th>confirmed_22_day_pct_change</th>\n",
       "      <th>recovered_22_day_pct_change</th>\n",
       "      <th>deaths_22_day_pct_change</th>\n",
       "      <th>confirmed_23_day_pct_change</th>\n",
       "      <th>recovered_23_day_pct_change</th>\n",
       "      <th>deaths_23_day_pct_change</th>\n",
       "      <th>confirmed_24_day_pct_change</th>\n",
       "      <th>recovered_24_day_pct_change</th>\n",
       "      <th>deaths_24_day_pct_change</th>\n",
       "      <th>confirmed_25_day_pct_change</th>\n",
       "      <th>recovered_25_day_pct_change</th>\n",
       "      <th>deaths_25_day_pct_change</th>\n",
       "      <th>confirmed_26_day_pct_change</th>\n",
       "      <th>recovered_26_day_pct_change</th>\n",
       "      <th>deaths_26_day_pct_change</th>\n",
       "      <th>confirmed_27_day_pct_change</th>\n",
       "      <th>recovered_27_day_pct_change</th>\n",
       "      <th>deaths_27_day_pct_change</th>\n",
       "      <th>confirmed_28_day_pct_change</th>\n",
       "      <th>recovered_28_day_pct_change</th>\n",
       "      <th>deaths_28_day_pct_change</th>\n",
       "      <th>confirmed_29_day_pct_change</th>\n",
       "      <th>recovered_29_day_pct_change</th>\n",
       "      <th>deaths_29_day_pct_change</th>\n",
       "    </tr>\n",
       "  </thead>\n",
       "  <tbody>\n",
       "    <tr>\n",
       "      <th>0</th>\n",
       "      <td>839675.0</td>\n",
       "      <td>46583.0</td>\n",
       "      <td>1587556800</td>\n",
       "      <td>missing</td>\n",
       "      <td>-95.7129</td>\n",
       "      <td>US</td>\n",
       "      <td>2020-04-22</td>\n",
       "      <td>37902.0</td>\n",
       "      <td>77366.0</td>\n",
       "      <td>2020-04-22</td>\n",
       "      <td>4</td>\n",
       "      <td>2</td>\n",
       "      <td>113</td>\n",
       "      <td>0.019288</td>\n",
       "      <td>0.028748</td>\n",
       "      <td>0.038756</td>\n",
       "      <td>0.070569</td>\n",
       "      <td>0.069640</td>\n",
       "      <td>0.106642</td>\n",
       "      <td>0.106166</td>\n",
       "      <td>0.099933</td>\n",
       "      <td>0.145643</td>\n",
       "      <td>0.146788</td>\n",
       "      <td>0.193183</td>\n",
       "      <td>0.204816</td>\n",
       "      <td>0.200040</td>\n",
       "      <td>0.321479</td>\n",
       "      <td>0.266772</td>\n",
       "      <td>0.257373</td>\n",
       "      <td>0.414292</td>\n",
       "      <td>0.415208</td>\n",
       "      <td>0.319518</td>\n",
       "      <td>0.485066</td>\n",
       "      <td>0.644590</td>\n",
       "      <td>0.381794</td>\n",
       "      <td>0.619789</td>\n",
       "      <td>0.803306</td>\n",
       "      <td>0.446172</td>\n",
       "      <td>0.779265</td>\n",
       "      <td>0.979812</td>\n",
       "      <td>...</td>\n",
       "      <td>3.320041</td>\n",
       "      <td>1.491085</td>\n",
       "      <td>3.434090</td>\n",
       "      <td>3.842811</td>\n",
       "      <td>1.718715</td>\n",
       "      <td>4.280235</td>\n",
       "      <td>4.540978</td>\n",
       "      <td>2.046871</td>\n",
       "      <td>6.970125</td>\n",
       "      <td>5.573021</td>\n",
       "      <td>2.449023</td>\n",
       "      <td>7.595267</td>\n",
       "      <td>6.860783</td>\n",
       "      <td>2.935263</td>\n",
       "      <td>8.129809</td>\n",
       "      <td>8.792516</td>\n",
       "      <td>3.462274</td>\n",
       "      <td>10.014522</td>\n",
       "      <td>11.027627</td>\n",
       "      <td>4.189361</td>\n",
       "      <td>12.707654</td>\n",
       "      <td>14.642377</td>\n",
       "      <td>4.959961</td>\n",
       "      <td>28.030394</td>\n",
       "      <td>17.882448</td>\n",
       "      <td>5.912157</td>\n",
       "      <td>71.169776</td>\n",
       "      <td>21.992596</td>\n",
       "      <td>7.259884</td>\n",
       "      <td>88.028769</td>\n",
       "      <td>28.464263</td>\n",
       "      <td>9.015685</td>\n",
       "      <td>NaN</td>\n",
       "      <td>37.530190</td>\n",
       "      <td>11.765286</td>\n",
       "      <td>NaN</td>\n",
       "      <td>48.451168</td>\n",
       "      <td>18.150113</td>\n",
       "      <td>NaN</td>\n",
       "      <td>82.631957</td>\n",
       "    </tr>\n",
       "    <tr>\n",
       "      <th>1</th>\n",
       "      <td>823786.0</td>\n",
       "      <td>44845.0</td>\n",
       "      <td>1587470400</td>\n",
       "      <td>missing</td>\n",
       "      <td>-95.7129</td>\n",
       "      <td>US</td>\n",
       "      <td>2020-04-21</td>\n",
       "      <td>37902.0</td>\n",
       "      <td>75204.0</td>\n",
       "      <td>2020-04-21</td>\n",
       "      <td>4</td>\n",
       "      <td>1</td>\n",
       "      <td>112</td>\n",
       "      <td>0.050311</td>\n",
       "      <td>0.039749</td>\n",
       "      <td>0.065354</td>\n",
       "      <td>0.085234</td>\n",
       "      <td>0.069195</td>\n",
       "      <td>0.102900</td>\n",
       "      <td>0.125088</td>\n",
       "      <td>0.159840</td>\n",
       "      <td>0.159864</td>\n",
       "      <td>0.177332</td>\n",
       "      <td>0.284550</td>\n",
       "      <td>0.219509</td>\n",
       "      <td>0.233580</td>\n",
       "      <td>0.374769</td>\n",
       "      <td>0.362407</td>\n",
       "      <td>0.294549</td>\n",
       "      <td>0.443566</td>\n",
       "      <td>0.583230</td>\n",
       "      <td>0.355647</td>\n",
       "      <td>0.574524</td>\n",
       "      <td>0.736025</td>\n",
       "      <td>0.418806</td>\n",
       "      <td>0.729543</td>\n",
       "      <td>0.905946</td>\n",
       "      <td>0.483462</td>\n",
       "      <td>1.279738</td>\n",
       "      <td>1.036558</td>\n",
       "      <td>...</td>\n",
       "      <td>3.662127</td>\n",
       "      <td>1.667269</td>\n",
       "      <td>4.132678</td>\n",
       "      <td>4.334245</td>\n",
       "      <td>1.989216</td>\n",
       "      <td>6.747399</td>\n",
       "      <td>5.327783</td>\n",
       "      <td>2.383758</td>\n",
       "      <td>7.355072</td>\n",
       "      <td>6.567499</td>\n",
       "      <td>2.860797</td>\n",
       "      <td>7.874675</td>\n",
       "      <td>8.427160</td>\n",
       "      <td>3.377835</td>\n",
       "      <td>9.706720</td>\n",
       "      <td>10.578879</td>\n",
       "      <td>4.091164</td>\n",
       "      <td>12.324592</td>\n",
       "      <td>14.058764</td>\n",
       "      <td>4.847181</td>\n",
       "      <td>27.219137</td>\n",
       "      <td>17.177949</td>\n",
       "      <td>5.781360</td>\n",
       "      <td>69.152985</td>\n",
       "      <td>21.134748</td>\n",
       "      <td>7.103584</td>\n",
       "      <td>85.540852</td>\n",
       "      <td>27.364959</td>\n",
       "      <td>8.826161</td>\n",
       "      <td>NaN</td>\n",
       "      <td>36.092639</td>\n",
       "      <td>11.523731</td>\n",
       "      <td>NaN</td>\n",
       "      <td>46.606157</td>\n",
       "      <td>17.787739</td>\n",
       "      <td>NaN</td>\n",
       "      <td>79.511670</td>\n",
       "      <td>23.756161</td>\n",
       "      <td>NaN</td>\n",
       "      <td>106.541966</td>\n",
       "    </tr>\n",
       "    <tr>\n",
       "      <th>2</th>\n",
       "      <td>784326.0</td>\n",
       "      <td>42094.0</td>\n",
       "      <td>1587384000</td>\n",
       "      <td>missing</td>\n",
       "      <td>-95.7129</td>\n",
       "      <td>US</td>\n",
       "      <td>2020-04-20</td>\n",
       "      <td>37902.0</td>\n",
       "      <td>72329.0</td>\n",
       "      <td>2020-04-20</td>\n",
       "      <td>4</td>\n",
       "      <td>0</td>\n",
       "      <td>111</td>\n",
       "      <td>0.033251</td>\n",
       "      <td>0.028321</td>\n",
       "      <td>0.035243</td>\n",
       "      <td>0.071195</td>\n",
       "      <td>0.115500</td>\n",
       "      <td>0.088713</td>\n",
       "      <td>0.120937</td>\n",
       "      <td>0.235443</td>\n",
       "      <td>0.144699</td>\n",
       "      <td>0.174491</td>\n",
       "      <td>0.322213</td>\n",
       "      <td>0.278831</td>\n",
       "      <td>0.232539</td>\n",
       "      <td>0.388379</td>\n",
       "      <td>0.486108</td>\n",
       "      <td>0.290710</td>\n",
       "      <td>0.514331</td>\n",
       "      <td>0.629529</td>\n",
       "      <td>0.350845</td>\n",
       "      <td>0.663424</td>\n",
       "      <td>0.789026</td>\n",
       "      <td>0.412403</td>\n",
       "      <td>1.192585</td>\n",
       "      <td>0.911626</td>\n",
       "      <td>0.489992</td>\n",
       "      <td>1.313048</td>\n",
       "      <td>1.057079</td>\n",
       "      <td>...</td>\n",
       "      <td>4.007018</td>\n",
       "      <td>1.846030</td>\n",
       "      <td>6.451221</td>\n",
       "      <td>4.939608</td>\n",
       "      <td>2.221673</td>\n",
       "      <td>7.035663</td>\n",
       "      <td>6.103274</td>\n",
       "      <td>2.675862</td>\n",
       "      <td>7.535402</td>\n",
       "      <td>7.848854</td>\n",
       "      <td>3.168133</td>\n",
       "      <td>9.297409</td>\n",
       "      <td>9.868577</td>\n",
       "      <td>3.847293</td>\n",
       "      <td>11.815202</td>\n",
       "      <td>13.134990</td>\n",
       "      <td>4.567097</td>\n",
       "      <td>26.140338</td>\n",
       "      <td>16.062829</td>\n",
       "      <td>5.456527</td>\n",
       "      <td>66.471082</td>\n",
       "      <td>19.776900</td>\n",
       "      <td>6.715416</td>\n",
       "      <td>82.232451</td>\n",
       "      <td>25.624921</td>\n",
       "      <td>8.355480</td>\n",
       "      <td>NaN</td>\n",
       "      <td>33.817204</td>\n",
       "      <td>10.923835</td>\n",
       "      <td>NaN</td>\n",
       "      <td>43.685775</td>\n",
       "      <td>16.887792</td>\n",
       "      <td>NaN</td>\n",
       "      <td>74.572711</td>\n",
       "      <td>22.570321</td>\n",
       "      <td>NaN</td>\n",
       "      <td>99.944844</td>\n",
       "      <td>29.771156</td>\n",
       "      <td>NaN</td>\n",
       "      <td>136.114007</td>\n",
       "    </tr>\n",
       "    <tr>\n",
       "      <th>3</th>\n",
       "      <td>759086.0</td>\n",
       "      <td>40661.0</td>\n",
       "      <td>1587297600</td>\n",
       "      <td>missing</td>\n",
       "      <td>-95.7129</td>\n",
       "      <td>US</td>\n",
       "      <td>2020-04-19</td>\n",
       "      <td>37902.0</td>\n",
       "      <td>70337.0</td>\n",
       "      <td>2020-04-19</td>\n",
       "      <td>4</td>\n",
       "      <td>6</td>\n",
       "      <td>110</td>\n",
       "      <td>0.036724</td>\n",
       "      <td>0.084778</td>\n",
       "      <td>0.051650</td>\n",
       "      <td>0.084864</td>\n",
       "      <td>0.201418</td>\n",
       "      <td>0.105730</td>\n",
       "      <td>0.136695</td>\n",
       "      <td>0.285798</td>\n",
       "      <td>0.235296</td>\n",
       "      <td>0.192875</td>\n",
       "      <td>0.350142</td>\n",
       "      <td>0.435516</td>\n",
       "      <td>0.249175</td>\n",
       "      <td>0.472625</td>\n",
       "      <td>0.574055</td>\n",
       "      <td>0.307374</td>\n",
       "      <td>0.617612</td>\n",
       "      <td>0.728123</td>\n",
       "      <td>0.366952</td>\n",
       "      <td>1.132200</td>\n",
       "      <td>0.846549</td>\n",
       "      <td>0.442044</td>\n",
       "      <td>1.249344</td>\n",
       "      <td>0.987050</td>\n",
       "      <td>0.528766</td>\n",
       "      <td>1.443105</td>\n",
       "      <td>1.187722</td>\n",
       "      <td>...</td>\n",
       "      <td>4.737407</td>\n",
       "      <td>2.117998</td>\n",
       "      <td>6.814354</td>\n",
       "      <td>5.861458</td>\n",
       "      <td>2.557571</td>\n",
       "      <td>7.300330</td>\n",
       "      <td>7.547614</td>\n",
       "      <td>3.034001</td>\n",
       "      <td>9.013810</td>\n",
       "      <td>9.498580</td>\n",
       "      <td>3.691305</td>\n",
       "      <td>11.462261</td>\n",
       "      <td>12.653794</td>\n",
       "      <td>4.387945</td>\n",
       "      <td>25.392871</td>\n",
       "      <td>15.481962</td>\n",
       "      <td>5.248753</td>\n",
       "      <td>64.612873</td>\n",
       "      <td>19.069595</td>\n",
       "      <td>6.467130</td>\n",
       "      <td>79.940161</td>\n",
       "      <td>24.718533</td>\n",
       "      <td>8.054416</td>\n",
       "      <td>NaN</td>\n",
       "      <td>32.631927</td>\n",
       "      <td>10.540120</td>\n",
       "      <td>NaN</td>\n",
       "      <td>42.164544</td>\n",
       "      <td>16.312154</td>\n",
       "      <td>NaN</td>\n",
       "      <td>72.000000</td>\n",
       "      <td>21.811816</td>\n",
       "      <td>NaN</td>\n",
       "      <td>96.508393</td>\n",
       "      <td>28.780925</td>\n",
       "      <td>NaN</td>\n",
       "      <td>131.446254</td>\n",
       "      <td>38.742723</td>\n",
       "      <td>NaN</td>\n",
       "      <td>165.643443</td>\n",
       "    </tr>\n",
       "    <tr>\n",
       "      <th>4</th>\n",
       "      <td>732197.0</td>\n",
       "      <td>38664.0</td>\n",
       "      <td>1587211200</td>\n",
       "      <td>missing</td>\n",
       "      <td>-95.7129</td>\n",
       "      <td>US</td>\n",
       "      <td>2020-04-18</td>\n",
       "      <td>37902.0</td>\n",
       "      <td>64840.0</td>\n",
       "      <td>2020-04-18</td>\n",
       "      <td>4</td>\n",
       "      <td>5</td>\n",
       "      <td>109</td>\n",
       "      <td>0.046435</td>\n",
       "      <td>0.107524</td>\n",
       "      <td>0.051424</td>\n",
       "      <td>0.096430</td>\n",
       "      <td>0.185310</td>\n",
       "      <td>0.174626</td>\n",
       "      <td>0.150620</td>\n",
       "      <td>0.244625</td>\n",
       "      <td>0.365013</td>\n",
       "      <td>0.204925</td>\n",
       "      <td>0.357536</td>\n",
       "      <td>0.496748</td>\n",
       "      <td>0.261063</td>\n",
       "      <td>0.491192</td>\n",
       "      <td>0.643249</td>\n",
       "      <td>0.318530</td>\n",
       "      <td>0.965563</td>\n",
       "      <td>0.755858</td>\n",
       "      <td>0.390962</td>\n",
       "      <td>1.073553</td>\n",
       "      <td>0.889459</td>\n",
       "      <td>0.474613</td>\n",
       "      <td>1.252171</td>\n",
       "      <td>1.080275</td>\n",
       "      <td>0.586776</td>\n",
       "      <td>1.551751</td>\n",
       "      <td>1.346401</td>\n",
       "      <td>...</td>\n",
       "      <td>5.524468</td>\n",
       "      <td>2.431551</td>\n",
       "      <td>6.651640</td>\n",
       "      <td>7.127812</td>\n",
       "      <td>2.891105</td>\n",
       "      <td>8.231207</td>\n",
       "      <td>8.982959</td>\n",
       "      <td>3.525126</td>\n",
       "      <td>10.488306</td>\n",
       "      <td>11.983210</td>\n",
       "      <td>4.197088</td>\n",
       "      <td>23.330206</td>\n",
       "      <td>14.672477</td>\n",
       "      <td>5.027404</td>\n",
       "      <td>59.485075</td>\n",
       "      <td>18.083909</td>\n",
       "      <td>6.202623</td>\n",
       "      <td>73.614499</td>\n",
       "      <td>23.455408</td>\n",
       "      <td>7.733682</td>\n",
       "      <td>NaN</td>\n",
       "      <td>30.980149</td>\n",
       "      <td>10.131336</td>\n",
       "      <td>NaN</td>\n",
       "      <td>40.044586</td>\n",
       "      <td>15.698908</td>\n",
       "      <td>NaN</td>\n",
       "      <td>68.414722</td>\n",
       "      <td>21.003756</td>\n",
       "      <td>NaN</td>\n",
       "      <td>91.719424</td>\n",
       "      <td>27.725999</td>\n",
       "      <td>NaN</td>\n",
       "      <td>124.941368</td>\n",
       "      <td>37.334921</td>\n",
       "      <td>NaN</td>\n",
       "      <td>157.459016</td>\n",
       "      <td>52.534913</td>\n",
       "      <td>NaN</td>\n",
       "      <td>192.320000</td>\n",
       "    </tr>\n",
       "  </tbody>\n",
       "</table>\n",
       "<p>5 rows × 100 columns</p>\n",
       "</div>"
      ],
      "text/plain": [
       "   confirmed   deaths  ...  recovered_29_day_pct_change deaths_29_day_pct_change\n",
       "0   839675.0  46583.0  ...                          NaN                82.631957\n",
       "1   823786.0  44845.0  ...                          NaN               106.541966\n",
       "2   784326.0  42094.0  ...                          NaN               136.114007\n",
       "3   759086.0  40661.0  ...                          NaN               165.643443\n",
       "4   732197.0  38664.0  ...                          NaN               192.320000\n",
       "\n",
       "[5 rows x 100 columns]"
      ]
     },
     "execution_count": 2,
     "metadata": {
      "tags": []
     },
     "output_type": "execute_result"
    }
   ],
   "source": [
    "file='https://raw.githubusercontent.com/AVJdataminer/COVID19_GC/master/%20data/step3_output.csv'\n",
    "df=pd.read_csv(file)\n",
    "df.head()"
   ]
  },
  {
   "cell_type": "code",
   "execution_count": 0,
   "metadata": {
    "colab": {
     "base_uri": "https://localhost:8080/",
     "height": 204
    },
    "colab_type": "code",
    "id": "UI0DRGj9kauE",
    "outputId": "48990a5c-dbab-4a80-a892-79ff82f15de4"
   },
   "outputs": [
    {
     "data": {
      "text/html": [
       "<div>\n",
       "<style scoped>\n",
       "    .dataframe tbody tr th:only-of-type {\n",
       "        vertical-align: middle;\n",
       "    }\n",
       "\n",
       "    .dataframe tbody tr th {\n",
       "        vertical-align: top;\n",
       "    }\n",
       "\n",
       "    .dataframe thead th {\n",
       "        text-align: right;\n",
       "    }\n",
       "</style>\n",
       "<table border=\"1\" class=\"dataframe\">\n",
       "  <thead>\n",
       "    <tr style=\"text-align: right;\">\n",
       "      <th></th>\n",
       "      <th>timestamp.date</th>\n",
       "      <th>confirmed</th>\n",
       "      <th>deaths</th>\n",
       "      <th>recovered</th>\n",
       "    </tr>\n",
       "  </thead>\n",
       "  <tbody>\n",
       "    <tr>\n",
       "      <th>0</th>\n",
       "      <td>2020-01-22</td>\n",
       "      <td>1.0</td>\n",
       "      <td>0.0</td>\n",
       "      <td>0.0</td>\n",
       "    </tr>\n",
       "    <tr>\n",
       "      <th>1</th>\n",
       "      <td>2020-01-23</td>\n",
       "      <td>1.0</td>\n",
       "      <td>0.0</td>\n",
       "      <td>0.0</td>\n",
       "    </tr>\n",
       "    <tr>\n",
       "      <th>2</th>\n",
       "      <td>2020-01-24</td>\n",
       "      <td>2.0</td>\n",
       "      <td>0.0</td>\n",
       "      <td>0.0</td>\n",
       "    </tr>\n",
       "    <tr>\n",
       "      <th>3</th>\n",
       "      <td>2020-01-25</td>\n",
       "      <td>2.0</td>\n",
       "      <td>0.0</td>\n",
       "      <td>0.0</td>\n",
       "    </tr>\n",
       "    <tr>\n",
       "      <th>4</th>\n",
       "      <td>2020-01-26</td>\n",
       "      <td>5.0</td>\n",
       "      <td>0.0</td>\n",
       "      <td>0.0</td>\n",
       "    </tr>\n",
       "  </tbody>\n",
       "</table>\n",
       "</div>"
      ],
      "text/plain": [
       "  timestamp.date  confirmed  deaths  recovered\n",
       "0     2020-01-22        1.0     0.0        0.0\n",
       "1     2020-01-23        1.0     0.0        0.0\n",
       "2     2020-01-24        2.0     0.0        0.0\n",
       "3     2020-01-25        2.0     0.0        0.0\n",
       "4     2020-01-26        5.0     0.0        0.0"
      ]
     },
     "execution_count": 3,
     "metadata": {
      "tags": []
     },
     "output_type": "execute_result"
    }
   ],
   "source": [
    "ds = df.groupby(['timestamp.date']).agg({'confirmed':'sum','deaths':'sum', 'recovered':'sum'}).reset_index()\n",
    "ds.head()"
   ]
  },
  {
   "cell_type": "code",
   "execution_count": 0,
   "metadata": {
    "colab": {
     "base_uri": "https://localhost:8080/",
     "height": 542
    },
    "colab_type": "code",
    "id": "LiTtMkb_kx8H",
    "outputId": "8e0f2b4e-07ad-42d9-f282-1fa1520f6a50"
   },
   "outputs": [
    {
     "data": {
      "text/html": [
       "<html>\n",
       "<head><meta charset=\"utf-8\" /></head>\n",
       "<body>\n",
       "    <div>\n",
       "            <script src=\"https://cdnjs.cloudflare.com/ajax/libs/mathjax/2.7.5/MathJax.js?config=TeX-AMS-MML_SVG\"></script><script type=\"text/javascript\">if (window.MathJax) {MathJax.Hub.Config({SVG: {font: \"STIX-Web\"}});}</script>\n",
       "                <script type=\"text/javascript\">window.PlotlyConfig = {MathJaxConfig: 'local'};</script>\n",
       "        <script src=\"https://cdn.plot.ly/plotly-latest.min.js\"></script>    \n",
       "            <div id=\"57bc3eb9-dd4b-4ffa-b6c3-f03cfb0d7b4a\" class=\"plotly-graph-div\" style=\"height:525px; width:100%;\"></div>\n",
       "            <script type=\"text/javascript\">\n",
       "                \n",
       "                    window.PLOTLYENV=window.PLOTLYENV || {};\n",
       "                    \n",
       "                if (document.getElementById(\"57bc3eb9-dd4b-4ffa-b6c3-f03cfb0d7b4a\")) {\n",
       "                    Plotly.newPlot(\n",
       "                        '57bc3eb9-dd4b-4ffa-b6c3-f03cfb0d7b4a',\n",
       "                        [{\"line\": {\"color\": \"red\"}, \"name\": \"confirmed\", \"opacity\": 0.8, \"type\": \"scatter\", \"x\": [\"2020-01-22\", \"2020-01-23\", \"2020-01-24\", \"2020-01-25\", \"2020-01-26\", \"2020-01-27\", \"2020-01-28\", \"2020-01-29\", \"2020-01-30\", \"2020-01-31\", \"2020-02-01\", \"2020-02-02\", \"2020-02-03\", \"2020-02-04\", \"2020-02-05\", \"2020-02-06\", \"2020-02-07\", \"2020-02-08\", \"2020-02-09\", \"2020-02-10\", \"2020-02-11\", \"2020-02-12\", \"2020-02-13\", \"2020-02-14\", \"2020-02-15\", \"2020-02-16\", \"2020-02-17\", \"2020-02-18\", \"2020-02-19\", \"2020-02-20\", \"2020-02-21\", \"2020-02-22\", \"2020-02-23\", \"2020-02-24\", \"2020-02-25\", \"2020-02-26\", \"2020-02-27\", \"2020-02-28\", \"2020-02-29\", \"2020-03-01\", \"2020-03-02\", \"2020-03-03\", \"2020-03-04\", \"2020-03-05\", \"2020-03-06\", \"2020-03-07\", \"2020-03-08\", \"2020-03-09\", \"2020-03-10\", \"2020-03-11\", \"2020-03-12\", \"2020-03-13\", \"2020-03-14\", \"2020-03-15\", \"2020-03-16\", \"2020-03-17\", \"2020-03-18\", \"2020-03-19\", \"2020-03-20\", \"2020-03-21\", \"2020-03-22\", \"2020-03-23\", \"2020-03-25\", \"2020-03-26\", \"2020-03-27\", \"2020-03-28\", \"2020-03-29\", \"2020-03-30\", \"2020-03-31\", \"2020-04-01\", \"2020-04-02\", \"2020-04-03\", \"2020-04-04\", \"2020-04-05\", \"2020-04-06\", \"2020-04-07\", \"2020-04-08\", \"2020-04-09\", \"2020-04-10\", \"2020-04-11\", \"2020-04-12\", \"2020-04-13\", \"2020-04-14\", \"2020-04-15\", \"2020-04-16\", \"2020-04-17\", \"2020-04-18\", \"2020-04-19\", \"2020-04-20\", \"2020-04-21\", \"2020-04-22\"], \"y\": [1.0, 1.0, 2.0, 2.0, 5.0, 5.0, 5.0, 5.0, 5.0, 7.0, 8.0, 8.0, 11.0, 11.0, 11.0, 11.0, 11.0, 11.0, 11.0, 11.0, 12.0, 12.0, 13.0, 13.0, 13.0, 13.0, 13.0, 13.0, 13.0, 13.0, 15.0, 15.0, 15.0, 51.0, 51.0, 57.0, 58.0, 60.0, 68.0, 74.0, 98.0, 118.0, 149.0, 217.0, 262.0, 402.0, 518.0, 583.0, 959.0, 1281.0, 1663.0, 2179.0, 2727.0, 3499.0, 4632.0, 6421.0, 7783.0, 13677.0, 19100.0, 25489.0, 33276.0, 43847.0, 65778.0, 83836.0, 101657.0, 121478.0, 140886.0, 161807.0, 188172.0, 213372.0, 243453.0, 275586.0, 308850.0, 337072.0, 366614.0, 396223.0, 429052.0, 461437.0, 496535.0, 526396.0, 555313.0, 580619.0, 607670.0, 636350.0, 667801.0, 699706.0, 732197.0, 759086.0, 784326.0, 823786.0, 839675.0]}, {\"line\": {\"color\": \"dimgray\"}, \"name\": \"deaths\", \"opacity\": 0.8, \"type\": \"scatter\", \"x\": [\"2020-01-22\", \"2020-01-23\", \"2020-01-24\", \"2020-01-25\", \"2020-01-26\", \"2020-01-27\", \"2020-01-28\", \"2020-01-29\", \"2020-01-30\", \"2020-01-31\", \"2020-02-01\", \"2020-02-02\", \"2020-02-03\", \"2020-02-04\", \"2020-02-05\", \"2020-02-06\", \"2020-02-07\", \"2020-02-08\", \"2020-02-09\", \"2020-02-10\", \"2020-02-11\", \"2020-02-12\", \"2020-02-13\", \"2020-02-14\", \"2020-02-15\", \"2020-02-16\", \"2020-02-17\", \"2020-02-18\", \"2020-02-19\", \"2020-02-20\", \"2020-02-21\", \"2020-02-22\", \"2020-02-23\", \"2020-02-24\", \"2020-02-25\", \"2020-02-26\", \"2020-02-27\", \"2020-02-28\", \"2020-02-29\", \"2020-03-01\", \"2020-03-02\", \"2020-03-03\", \"2020-03-04\", \"2020-03-05\", \"2020-03-06\", \"2020-03-07\", \"2020-03-08\", \"2020-03-09\", \"2020-03-10\", \"2020-03-11\", \"2020-03-12\", \"2020-03-13\", \"2020-03-14\", \"2020-03-15\", \"2020-03-16\", \"2020-03-17\", \"2020-03-18\", \"2020-03-19\", \"2020-03-20\", \"2020-03-21\", \"2020-03-22\", \"2020-03-23\", \"2020-03-25\", \"2020-03-26\", \"2020-03-27\", \"2020-03-28\", \"2020-03-29\", \"2020-03-30\", \"2020-03-31\", \"2020-04-01\", \"2020-04-02\", \"2020-04-03\", \"2020-04-04\", \"2020-04-05\", \"2020-04-06\", \"2020-04-07\", \"2020-04-08\", \"2020-04-09\", \"2020-04-10\", \"2020-04-11\", \"2020-04-12\", \"2020-04-13\", \"2020-04-14\", \"2020-04-15\", \"2020-04-16\", \"2020-04-17\", \"2020-04-18\", \"2020-04-19\", \"2020-04-20\", \"2020-04-21\", \"2020-04-22\"], \"y\": [0.0, 0.0, 0.0, 0.0, 0.0, 0.0, 0.0, 0.0, 0.0, 0.0, 0.0, 0.0, 0.0, 0.0, 0.0, 0.0, 0.0, 0.0, 0.0, 0.0, 0.0, 0.0, 0.0, 0.0, 0.0, 0.0, 0.0, 0.0, 0.0, 0.0, 0.0, 0.0, 0.0, 0.0, 0.0, 0.0, 0.0, 0.0, 1.0, 1.0, 6.0, 7.0, 11.0, 12.0, 14.0, 17.0, 21.0, 22.0, 28.0, 36.0, 40.0, 47.0, 54.0, 63.0, 85.0, 108.0, 118.0, 200.0, 244.0, 307.0, 417.0, 557.0, 942.0, 1209.0, 1581.0, 2026.0, 2467.0, 2978.0, 3873.0, 4757.0, 5926.0, 7087.0, 8407.0, 9619.0, 10783.0, 12722.0, 14695.0, 16478.0, 18586.0, 20463.0, 22020.0, 23529.0, 25832.0, 28325.0, 32916.0, 36773.0, 38664.0, 40661.0, 42094.0, 44845.0, 46583.0]}, {\"line\": {\"color\": \"green\"}, \"name\": \"recovered\", \"opacity\": 0.8, \"type\": \"scatter\", \"x\": [\"2020-01-22\", \"2020-01-23\", \"2020-01-24\", \"2020-01-25\", \"2020-01-26\", \"2020-01-27\", \"2020-01-28\", \"2020-01-29\", \"2020-01-30\", \"2020-01-31\", \"2020-02-01\", \"2020-02-02\", \"2020-02-03\", \"2020-02-04\", \"2020-02-05\", \"2020-02-06\", \"2020-02-07\", \"2020-02-08\", \"2020-02-09\", \"2020-02-10\", \"2020-02-11\", \"2020-02-12\", \"2020-02-13\", \"2020-02-14\", \"2020-02-15\", \"2020-02-16\", \"2020-02-17\", \"2020-02-18\", \"2020-02-19\", \"2020-02-20\", \"2020-02-21\", \"2020-02-22\", \"2020-02-23\", \"2020-02-24\", \"2020-02-25\", \"2020-02-26\", \"2020-02-27\", \"2020-02-28\", \"2020-02-29\", \"2020-03-01\", \"2020-03-02\", \"2020-03-03\", \"2020-03-04\", \"2020-03-05\", \"2020-03-06\", \"2020-03-07\", \"2020-03-08\", \"2020-03-09\", \"2020-03-10\", \"2020-03-11\", \"2020-03-12\", \"2020-03-13\", \"2020-03-14\", \"2020-03-15\", \"2020-03-16\", \"2020-03-17\", \"2020-03-18\", \"2020-03-19\", \"2020-03-20\", \"2020-03-21\", \"2020-03-22\", \"2020-03-23\", \"2020-03-25\", \"2020-03-26\", \"2020-03-27\", \"2020-03-28\", \"2020-03-29\", \"2020-03-30\", \"2020-03-31\", \"2020-04-01\", \"2020-04-02\", \"2020-04-03\", \"2020-04-04\", \"2020-04-05\", \"2020-04-06\", \"2020-04-07\", \"2020-04-08\", \"2020-04-09\", \"2020-04-10\", \"2020-04-11\", \"2020-04-12\", \"2020-04-13\", \"2020-04-14\", \"2020-04-15\", \"2020-04-16\", \"2020-04-17\", \"2020-04-18\", \"2020-04-19\", \"2020-04-20\", \"2020-04-21\", \"2020-04-22\"], \"y\": [0.0, 0.0, 0.0, 0.0, 0.0, 0.0, 0.0, 0.0, 0.0, 0.0, 0.0, 0.0, 0.0, 0.0, 0.0, 0.0, 0.0, 0.0, 0.0, 0.0, 0.0, 0.0, 0.0, 0.0, 0.0, 0.0, 0.0, 0.0, 0.0, 0.0, 0.0, 0.0, 0.0, 0.0, 0.0, 0.0, 0.0, 0.0, 0.0, 0.0, 0.0, 0.0, 0.0, 0.0, 0.0, 0.0, 0.0, 0.0, 0.0, 0.0, 0.0, 0.0, 0.0, 0.0, 0.0, 0.0, 0.0, 0.0, 0.0, 0.0, 0.0, 0.0, 0.0, 0.0, 869.0, 1072.0, 2665.0, 5644.0, 7024.0, 8474.0, 9001.0, 9707.0, 14652.0, 17448.0, 19581.0, 21763.0, 23559.0, 25410.0, 28790.0, 31270.0, 32988.0, 43482.0, 47763.0, 52096.0, 54703.0, 58545.0, 64840.0, 70337.0, 72329.0, 75204.0, 77366.0]}],\n",
       "                        {\"template\": {\"data\": {\"bar\": [{\"error_x\": {\"color\": \"#2a3f5f\"}, \"error_y\": {\"color\": \"#2a3f5f\"}, \"marker\": {\"line\": {\"color\": \"#E5ECF6\", \"width\": 0.5}}, \"type\": \"bar\"}], \"barpolar\": [{\"marker\": {\"line\": {\"color\": \"#E5ECF6\", \"width\": 0.5}}, \"type\": \"barpolar\"}], \"carpet\": [{\"aaxis\": {\"endlinecolor\": \"#2a3f5f\", \"gridcolor\": \"white\", \"linecolor\": \"white\", \"minorgridcolor\": \"white\", \"startlinecolor\": \"#2a3f5f\"}, \"baxis\": {\"endlinecolor\": \"#2a3f5f\", \"gridcolor\": \"white\", \"linecolor\": \"white\", \"minorgridcolor\": \"white\", \"startlinecolor\": \"#2a3f5f\"}, \"type\": \"carpet\"}], \"choropleth\": [{\"colorbar\": {\"outlinewidth\": 0, \"ticks\": \"\"}, \"type\": \"choropleth\"}], \"contour\": [{\"colorbar\": {\"outlinewidth\": 0, \"ticks\": \"\"}, \"colorscale\": [[0.0, \"#0d0887\"], [0.1111111111111111, \"#46039f\"], [0.2222222222222222, \"#7201a8\"], [0.3333333333333333, \"#9c179e\"], [0.4444444444444444, \"#bd3786\"], [0.5555555555555556, \"#d8576b\"], [0.6666666666666666, \"#ed7953\"], [0.7777777777777778, \"#fb9f3a\"], [0.8888888888888888, \"#fdca26\"], [1.0, \"#f0f921\"]], \"type\": \"contour\"}], \"contourcarpet\": [{\"colorbar\": {\"outlinewidth\": 0, \"ticks\": \"\"}, \"type\": \"contourcarpet\"}], \"heatmap\": [{\"colorbar\": {\"outlinewidth\": 0, \"ticks\": \"\"}, \"colorscale\": [[0.0, \"#0d0887\"], [0.1111111111111111, \"#46039f\"], [0.2222222222222222, \"#7201a8\"], [0.3333333333333333, \"#9c179e\"], [0.4444444444444444, \"#bd3786\"], [0.5555555555555556, \"#d8576b\"], [0.6666666666666666, \"#ed7953\"], [0.7777777777777778, \"#fb9f3a\"], [0.8888888888888888, \"#fdca26\"], [1.0, \"#f0f921\"]], \"type\": \"heatmap\"}], \"heatmapgl\": [{\"colorbar\": {\"outlinewidth\": 0, \"ticks\": \"\"}, \"colorscale\": [[0.0, \"#0d0887\"], [0.1111111111111111, \"#46039f\"], [0.2222222222222222, \"#7201a8\"], [0.3333333333333333, \"#9c179e\"], [0.4444444444444444, \"#bd3786\"], [0.5555555555555556, \"#d8576b\"], [0.6666666666666666, \"#ed7953\"], [0.7777777777777778, \"#fb9f3a\"], [0.8888888888888888, \"#fdca26\"], [1.0, \"#f0f921\"]], \"type\": \"heatmapgl\"}], \"histogram\": [{\"marker\": {\"colorbar\": {\"outlinewidth\": 0, \"ticks\": \"\"}}, \"type\": \"histogram\"}], \"histogram2d\": [{\"colorbar\": {\"outlinewidth\": 0, \"ticks\": \"\"}, \"colorscale\": [[0.0, \"#0d0887\"], [0.1111111111111111, \"#46039f\"], [0.2222222222222222, \"#7201a8\"], [0.3333333333333333, \"#9c179e\"], [0.4444444444444444, \"#bd3786\"], [0.5555555555555556, \"#d8576b\"], [0.6666666666666666, \"#ed7953\"], [0.7777777777777778, \"#fb9f3a\"], [0.8888888888888888, \"#fdca26\"], [1.0, \"#f0f921\"]], \"type\": \"histogram2d\"}], \"histogram2dcontour\": [{\"colorbar\": {\"outlinewidth\": 0, \"ticks\": \"\"}, \"colorscale\": [[0.0, \"#0d0887\"], [0.1111111111111111, \"#46039f\"], [0.2222222222222222, \"#7201a8\"], [0.3333333333333333, \"#9c179e\"], [0.4444444444444444, \"#bd3786\"], [0.5555555555555556, \"#d8576b\"], [0.6666666666666666, \"#ed7953\"], [0.7777777777777778, \"#fb9f3a\"], [0.8888888888888888, \"#fdca26\"], [1.0, \"#f0f921\"]], \"type\": \"histogram2dcontour\"}], \"mesh3d\": [{\"colorbar\": {\"outlinewidth\": 0, \"ticks\": \"\"}, \"type\": \"mesh3d\"}], \"parcoords\": [{\"line\": {\"colorbar\": {\"outlinewidth\": 0, \"ticks\": \"\"}}, \"type\": \"parcoords\"}], \"pie\": [{\"automargin\": true, \"type\": \"pie\"}], \"scatter\": [{\"marker\": {\"colorbar\": {\"outlinewidth\": 0, \"ticks\": \"\"}}, \"type\": \"scatter\"}], \"scatter3d\": [{\"line\": {\"colorbar\": {\"outlinewidth\": 0, \"ticks\": \"\"}}, \"marker\": {\"colorbar\": {\"outlinewidth\": 0, \"ticks\": \"\"}}, \"type\": \"scatter3d\"}], \"scattercarpet\": [{\"marker\": {\"colorbar\": {\"outlinewidth\": 0, \"ticks\": \"\"}}, \"type\": \"scattercarpet\"}], \"scattergeo\": [{\"marker\": {\"colorbar\": {\"outlinewidth\": 0, \"ticks\": \"\"}}, \"type\": \"scattergeo\"}], \"scattergl\": [{\"marker\": {\"colorbar\": {\"outlinewidth\": 0, \"ticks\": \"\"}}, \"type\": \"scattergl\"}], \"scattermapbox\": [{\"marker\": {\"colorbar\": {\"outlinewidth\": 0, \"ticks\": \"\"}}, \"type\": \"scattermapbox\"}], \"scatterpolar\": [{\"marker\": {\"colorbar\": {\"outlinewidth\": 0, \"ticks\": \"\"}}, \"type\": \"scatterpolar\"}], \"scatterpolargl\": [{\"marker\": {\"colorbar\": {\"outlinewidth\": 0, \"ticks\": \"\"}}, \"type\": \"scatterpolargl\"}], \"scatterternary\": [{\"marker\": {\"colorbar\": {\"outlinewidth\": 0, \"ticks\": \"\"}}, \"type\": \"scatterternary\"}], \"surface\": [{\"colorbar\": {\"outlinewidth\": 0, \"ticks\": \"\"}, \"colorscale\": [[0.0, \"#0d0887\"], [0.1111111111111111, \"#46039f\"], [0.2222222222222222, \"#7201a8\"], [0.3333333333333333, \"#9c179e\"], [0.4444444444444444, \"#bd3786\"], [0.5555555555555556, \"#d8576b\"], [0.6666666666666666, \"#ed7953\"], [0.7777777777777778, \"#fb9f3a\"], [0.8888888888888888, \"#fdca26\"], [1.0, \"#f0f921\"]], \"type\": \"surface\"}], \"table\": [{\"cells\": {\"fill\": {\"color\": \"#EBF0F8\"}, \"line\": {\"color\": \"white\"}}, \"header\": {\"fill\": {\"color\": \"#C8D4E3\"}, \"line\": {\"color\": \"white\"}}, \"type\": \"table\"}]}, \"layout\": {\"annotationdefaults\": {\"arrowcolor\": \"#2a3f5f\", \"arrowhead\": 0, \"arrowwidth\": 1}, \"coloraxis\": {\"colorbar\": {\"outlinewidth\": 0, \"ticks\": \"\"}}, \"colorscale\": {\"diverging\": [[0, \"#8e0152\"], [0.1, \"#c51b7d\"], [0.2, \"#de77ae\"], [0.3, \"#f1b6da\"], [0.4, \"#fde0ef\"], [0.5, \"#f7f7f7\"], [0.6, \"#e6f5d0\"], [0.7, \"#b8e186\"], [0.8, \"#7fbc41\"], [0.9, \"#4d9221\"], [1, \"#276419\"]], \"sequential\": [[0.0, \"#0d0887\"], [0.1111111111111111, \"#46039f\"], [0.2222222222222222, \"#7201a8\"], [0.3333333333333333, \"#9c179e\"], [0.4444444444444444, \"#bd3786\"], [0.5555555555555556, \"#d8576b\"], [0.6666666666666666, \"#ed7953\"], [0.7777777777777778, \"#fb9f3a\"], [0.8888888888888888, \"#fdca26\"], [1.0, \"#f0f921\"]], \"sequentialminus\": [[0.0, \"#0d0887\"], [0.1111111111111111, \"#46039f\"], [0.2222222222222222, \"#7201a8\"], [0.3333333333333333, \"#9c179e\"], [0.4444444444444444, \"#bd3786\"], [0.5555555555555556, \"#d8576b\"], [0.6666666666666666, \"#ed7953\"], [0.7777777777777778, \"#fb9f3a\"], [0.8888888888888888, \"#fdca26\"], [1.0, \"#f0f921\"]]}, \"colorway\": [\"#636efa\", \"#EF553B\", \"#00cc96\", \"#ab63fa\", \"#FFA15A\", \"#19d3f3\", \"#FF6692\", \"#B6E880\", \"#FF97FF\", \"#FECB52\"], \"font\": {\"color\": \"#2a3f5f\"}, \"geo\": {\"bgcolor\": \"white\", \"lakecolor\": \"white\", \"landcolor\": \"#E5ECF6\", \"showlakes\": true, \"showland\": true, \"subunitcolor\": \"white\"}, \"hoverlabel\": {\"align\": \"left\"}, \"hovermode\": \"closest\", \"mapbox\": {\"style\": \"light\"}, \"paper_bgcolor\": \"white\", \"plot_bgcolor\": \"#E5ECF6\", \"polar\": {\"angularaxis\": {\"gridcolor\": \"white\", \"linecolor\": \"white\", \"ticks\": \"\"}, \"bgcolor\": \"#E5ECF6\", \"radialaxis\": {\"gridcolor\": \"white\", \"linecolor\": \"white\", \"ticks\": \"\"}}, \"scene\": {\"xaxis\": {\"backgroundcolor\": \"#E5ECF6\", \"gridcolor\": \"white\", \"gridwidth\": 2, \"linecolor\": \"white\", \"showbackground\": true, \"ticks\": \"\", \"zerolinecolor\": \"white\"}, \"yaxis\": {\"backgroundcolor\": \"#E5ECF6\", \"gridcolor\": \"white\", \"gridwidth\": 2, \"linecolor\": \"white\", \"showbackground\": true, \"ticks\": \"\", \"zerolinecolor\": \"white\"}, \"zaxis\": {\"backgroundcolor\": \"#E5ECF6\", \"gridcolor\": \"white\", \"gridwidth\": 2, \"linecolor\": \"white\", \"showbackground\": true, \"ticks\": \"\", \"zerolinecolor\": \"white\"}}, \"shapedefaults\": {\"line\": {\"color\": \"#2a3f5f\"}}, \"ternary\": {\"aaxis\": {\"gridcolor\": \"white\", \"linecolor\": \"white\", \"ticks\": \"\"}, \"baxis\": {\"gridcolor\": \"white\", \"linecolor\": \"white\", \"ticks\": \"\"}, \"bgcolor\": \"#E5ECF6\", \"caxis\": {\"gridcolor\": \"white\", \"linecolor\": \"white\", \"ticks\": \"\"}}, \"title\": {\"x\": 0.05}, \"xaxis\": {\"automargin\": true, \"gridcolor\": \"white\", \"linecolor\": \"white\", \"ticks\": \"\", \"title\": {\"standoff\": 15}, \"zerolinecolor\": \"white\", \"zerolinewidth\": 2}, \"yaxis\": {\"automargin\": true, \"gridcolor\": \"white\", \"linecolor\": \"white\", \"ticks\": \"\", \"title\": {\"standoff\": 15}, \"zerolinecolor\": \"white\", \"zerolinewidth\": 2}}}, \"title\": {\"text\": \"COVID-19 US Confirmed Cases\"}, \"xaxis\": {\"range\": [\"2020-01-22\", \"2020-04-22\"]}},\n",
       "                        {\"responsive\": true}\n",
       "                    ).then(function(){\n",
       "                            \n",
       "var gd = document.getElementById('57bc3eb9-dd4b-4ffa-b6c3-f03cfb0d7b4a');\n",
       "var x = new MutationObserver(function (mutations, observer) {{\n",
       "        var display = window.getComputedStyle(gd).display;\n",
       "        if (!display || display === 'none') {{\n",
       "            console.log([gd, 'removed!']);\n",
       "            Plotly.purge(gd);\n",
       "            observer.disconnect();\n",
       "        }}\n",
       "}});\n",
       "\n",
       "// Listen for the removal of the full notebook cells\n",
       "var notebookContainer = gd.closest('#notebook-container');\n",
       "if (notebookContainer) {{\n",
       "    x.observe(notebookContainer, {childList: true});\n",
       "}}\n",
       "\n",
       "// Listen for the clearing of the current output cell\n",
       "var outputEl = gd.closest('.output');\n",
       "if (outputEl) {{\n",
       "    x.observe(outputEl, {childList: true});\n",
       "}}\n",
       "\n",
       "                        })\n",
       "                };\n",
       "                \n",
       "            </script>\n",
       "        </div>\n",
       "</body>\n",
       "</html>"
      ]
     },
     "metadata": {
      "tags": []
     },
     "output_type": "display_data"
    }
   ],
   "source": [
    "fig = go.Figure()\n",
    "fig.add_trace(go.Scatter(\n",
    "                x=ds['timestamp.date'],\n",
    "                y=ds['confirmed'],\n",
    "                name=\"confirmed\",\n",
    "                line_color='red',\n",
    "                opacity=0.8))\n",
    "fig.add_trace(go.Scatter(\n",
    "                x=ds['timestamp.date'],\n",
    "                y=ds['deaths'],\n",
    "                name=\"deaths\",\n",
    "                line_color='dimgray',\n",
    "                opacity=0.8))\n",
    "fig.add_trace(go.Scatter(\n",
    "                x=ds['timestamp.date'],\n",
    "                y=ds['recovered'],\n",
    "                name=\"recovered\",\n",
    "                line_color='green',\n",
    "                opacity=0.8))\n",
    "\n",
    "# Use date string to set xaxis range\n",
    "fig.update_layout(xaxis_range=['2020-01-22','2020-04-22'],\n",
    "                  title_text=\"COVID-19 US Confirmed Cases\")\n",
    "fig.show()"
   ]
  },
  {
   "cell_type": "markdown",
   "metadata": {
    "colab_type": "text",
    "id": "zkBHf9smZyGB"
   },
   "source": [
    "## Create dummy features for categorical variables - when applicable."
   ]
  },
  {
   "cell_type": "markdown",
   "metadata": {
    "colab_type": "text",
    "id": "hC2fyC4hi6MD"
   },
   "source": [
    "**<font color='DarkBlue'> Check the values for `province_state` and determine if dummies need to be created, if so, add the dummies back to the dataframe and remove the original column for `province_state`. </font>**"
   ]
  },
  {
   "cell_type": "code",
   "execution_count": 0,
   "metadata": {
    "colab": {
     "base_uri": "https://localhost:8080/",
     "height": 51
    },
    "colab_type": "code",
    "id": "1wkyECMOcAcQ",
    "outputId": "5a5c3b5e-930b-446f-de3c-d4d924d6b832"
   },
   "outputs": [
    {
     "data": {
      "text/plain": [
       "missing    91\n",
       "Name: province_state, dtype: int64"
      ]
     },
     "execution_count": 5,
     "metadata": {
      "tags": []
     },
     "output_type": "execute_result"
    }
   ],
   "source": [
    "df.province_state.value_counts()"
   ]
  },
  {
   "cell_type": "markdown",
   "metadata": {
    "colab_type": "text",
    "id": "wr_eYIn7ctWN"
   },
   "source": [
    "**<font color='DarkBlue'> Currently there are no states in this dataset so we skip this step. </font>**"
   ]
  },
  {
   "cell_type": "code",
   "execution_count": 0,
   "metadata": {
    "colab": {},
    "colab_type": "code",
    "id": "lZqWk8ltZyGZ"
   },
   "outputs": [],
   "source": [
    "#df = pd.concat([df, pd.get_dummies(df['province_state'])], axis=1).drop(['province_state'], axis =1)\n",
    "#print(df.shape)\n",
    "#df.head()"
   ]
  },
  {
   "cell_type": "markdown",
   "metadata": {
    "colab_type": "text",
    "id": "HnDVhE1-ZyGF"
   },
   "source": [
    "## Standardize the magnitude of numeric features"
   ]
  },
  {
   "cell_type": "markdown",
   "metadata": {
    "colab_type": "text",
    "id": "BADoC4UAc--X"
   },
   "source": [
    "**<font color='DarkBlue'> In the last step you may remember we applied a scaler to our data before fitting the Lasso Regression, however, we didn't save that in the output data so we will need to apply that step again before modeling the US data. Additionally, we need use the simple imputer to fill the null values once again. Start by filling the null values than apply the scaler to the filled numpy array. </font>**"
   ]
  },
  {
   "cell_type": "code",
   "execution_count": 0,
   "metadata": {
    "colab": {},
    "colab_type": "code",
    "id": "IZL-q-KtAYI6"
   },
   "outputs": [],
   "source": [
    "from sklearn.impute import SimpleImputer\n",
    "response ='confirmed'\n",
    "imp = SimpleImputer(missing_values=np.nan, strategy='mean')\n",
    "X = df.drop([response], axis=1)._get_numeric_data()\n",
    "imputer=imp.fit(X)\n",
    "X_filled=imputer.transform(X)\n",
    "\n",
    "from sklearn import preprocessing\n",
    "scaler = preprocessing.StandardScaler().fit(X_filled)\n",
    "X_scaled=scaler.transform(X_filled)\n",
    "y = df[[response]].values"
   ]
  },
  {
   "cell_type": "markdown",
   "metadata": {
    "colab_type": "text",
    "id": "GAT8h4_mZyGK"
   },
   "source": [
    "## Split into training and testing datasets"
   ]
  },
  {
   "cell_type": "markdown",
   "metadata": {
    "colab_type": "text",
    "id": "1zDMyE5ui6Mx"
   },
   "source": [
    "**<font color='DarkBlue'> Split the data into training and testing data subset based on date.</font>**"
   ]
  },
  {
   "cell_type": "code",
   "execution_count": 0,
   "metadata": {
    "colab": {},
    "colab_type": "code",
    "id": "BSkPut0gguds"
   },
   "outputs": [],
   "source": [
    "from datetime import datetime,timedelta\n",
    "def dt_splitter(date_col, X, y, test_size):\n",
    "        date_col = pd.to_datetime(date_col)\n",
    "        xw_date=pd.DataFrame(X).merge(date_col,left_index=True, right_index=True)\n",
    "        ad = (max(xw_date.date)- min(xw_date.date)).days*test_size\n",
    "        split_date = min(xw_date.date) + timedelta(days=ad)\n",
    "        X_train = xw_date.loc[xw_date['date'] <= split_date].drop(['date'], axis=1).values\n",
    "        X_test = xw_date.loc[xw_date['date'] > split_date].drop(['date'], axis=1).values\n",
    "        yw_date=pd.DataFrame(y).merge(date_col,left_index=True, right_index=True)\n",
    "        y_train=yw_date.loc[yw_date['date'] <= split_date].drop(['date'], axis=1).values\n",
    "        y_test=yw_date.loc[yw_date['date'] > split_date].drop(['date'], axis=1).values\n",
    "        return X_train, X_test, y_train, y_test\n",
    "\n",
    "X_train, X_test, y_train, y_test=dt_splitter(df['date'], X_scaled, y, .80)"
   ]
  },
  {
   "cell_type": "code",
   "execution_count": 0,
   "metadata": {
    "colab": {
     "base_uri": "https://localhost:8080/",
     "height": 51
    },
    "colab_type": "code",
    "id": "1JBBCMXni6Nt",
    "outputId": "e2c779aa-13af-40a3-c4d4-3b32be093a33"
   },
   "outputs": [
    {
     "name": "stdout",
     "output_type": "stream",
     "text": [
      "(91, 95)\n"
     ]
    },
    {
     "data": {
      "text/plain": [
       "(91, 1)"
      ]
     },
     "execution_count": 9,
     "metadata": {
      "tags": []
     },
     "output_type": "execute_result"
    }
   ],
   "source": [
    "print(X.shape)\n",
    "y.shape"
   ]
  },
  {
   "cell_type": "code",
   "execution_count": 0,
   "metadata": {
    "colab": {
     "base_uri": "https://localhost:8080/",
     "height": 34
    },
    "colab_type": "code",
    "id": "Jz8Jnu6Zd4tW",
    "outputId": "e95c4c4a-21f8-413f-aae1-f44337ab85eb"
   },
   "outputs": [
    {
     "name": "stdout",
     "output_type": "stream",
     "text": [
      "Mean explained variance score for confirmed cases for the testing period =-2.428\n"
     ]
    }
   ],
   "source": [
    "#Fit the model\n",
    "from sklearn.linear_model import Lasso\n",
    "from sklearn.model_selection import cross_val_score\n",
    "from sklearn.metrics import mean_squared_error,explained_variance_score,mean_absolute_error\n",
    "from math import sqrt\n",
    "from sklearn.metrics import explained_variance_score\n",
    "lassoreg = Lasso(alpha=1,normalize=True, max_iter=1e5)\n",
    "lassoreg.fit(X_train,y_train)\n",
    "y_pred = lassoreg.predict(X_test)\n",
    "print('Mean explained variance score for confirmed cases for the testing period =%.3f' % explained_variance_score(y_test, y_pred))"
   ]
  },
  {
   "cell_type": "code",
   "execution_count": 0,
   "metadata": {
    "colab": {
     "base_uri": "https://localhost:8080/",
     "height": 312
    },
    "colab_type": "code",
    "id": "nvS9M5PTeDjG",
    "outputId": "5a692ab6-5186-4454-c01b-79fc584043f0"
   },
   "outputs": [
    {
     "data": {
      "text/plain": [
       "Text(0, 0.5, 'Actual')"
      ]
     },
     "execution_count": 11,
     "metadata": {
      "tags": []
     },
     "output_type": "execute_result"
    },
    {
     "data": {
      "image/png": "[encoded data removed]",
      "text/plain": [
       "<Figure size 432x288 with 1 Axes>"
      ]
     },
     "metadata": {
      "needs_background": "light",
      "tags": []
     },
     "output_type": "display_data"
    }
   ],
   "source": [
    "plt.scatter(y_pred,y_test)\n",
    "plt.plot([x for x in range(0,150000)],[x for x in range(0,150000)], color='red')\n",
    "plt.title(\"Model y predicted by actuals\")\n",
    "plt.xlabel(\"Predicted\")\n",
    "plt.ylabel(\"Actual\")"
   ]
  },
  {
   "cell_type": "markdown",
   "metadata": {
    "colab_type": "text",
    "id": "yGPk6KXVZjjX"
   },
   "source": [
    "Model Confirmed cases with timeseries"
   ]
  },
  {
   "cell_type": "code",
   "execution_count": 0,
   "metadata": {
    "colab": {
     "base_uri": "https://localhost:8080/",
     "height": 153
    },
    "colab_type": "code",
    "id": "eZ6gjEE9i6Nw",
    "outputId": "92eb4e75-526c-493d-f9fe-138af19c9523"
   },
   "outputs": [
    {
     "name": "stderr",
     "output_type": "stream",
     "text": [
      "/usr/local/lib/python3.6/dist-packages/ipykernel_launcher.py:2: SettingWithCopyWarning:\n",
      "\n",
      "\n",
      "A value is trying to be set on a copy of a slice from a DataFrame.\n",
      "Try using .loc[row_indexer,col_indexer] = value instead\n",
      "\n",
      "See the caveats in the documentation: https://pandas.pydata.org/pandas-docs/stable/user_guide/indexing.html#returning-a-view-versus-a-copy\n",
      "\n"
     ]
    }
   ],
   "source": [
    "#create timeseries data, so only date and confirmed cases data frame.\n",
    "cdf = df[['date', 'confirmed']]\n",
    "cdf['date'] = pd.to_datetime(cdf['date'])\n",
    "cdf.set_index('date', inplace = True)"
   ]
  },
  {
   "cell_type": "code",
   "execution_count": 0,
   "metadata": {
    "colab": {
     "base_uri": "https://localhost:8080/",
     "height": 302
    },
    "colab_type": "code",
    "id": "7chBiCqsBDsD",
    "outputId": "ce242676-c9a9-4354-e313-0b63c82bc66c"
   },
   "outputs": [
    {
     "data": {
      "text/plain": [
       "<matplotlib.axes._subplots.AxesSubplot at 0x7f9baea41358>"
      ]
     },
     "execution_count": 13,
     "metadata": {
      "tags": []
     },
     "output_type": "execute_result"
    },
    {
     "data": {
      "image/png": "[encoded data removed]",
      "text/plain": [
       "<Figure size 432x288 with 1 Axes>"
      ]
     },
     "metadata": {
      "needs_background": "light",
      "tags": []
     },
     "output_type": "display_data"
    }
   ],
   "source": [
    "y = cdf['confirmed']\n",
    "y.plot()"
   ]
  },
  {
   "cell_type": "code",
   "execution_count": 0,
   "metadata": {
    "colab": {
     "base_uri": "https://localhost:8080/",
     "height": 297
    },
    "colab_type": "code",
    "id": "sokeBucQZnCv",
    "outputId": "91c7dffd-8189-4de3-d692-33f47f56d719"
   },
   "outputs": [
    {
     "data": {
      "image/png": "[encoded data removed]",
      "text/plain": [
       "<Figure size 432x288 with 4 Axes>"
      ]
     },
     "metadata": {
      "needs_background": "light",
      "tags": []
     },
     "output_type": "display_data"
    }
   ],
   "source": [
    "# Import seasonal_decompose \n",
    "from statsmodels.tsa.seasonal import seasonal_decompose\n",
    "\n",
    "# Make a variable called decomposition\n",
    "decomposition = seasonal_decompose(y,freq=30)\n",
    "\n",
    "# Make three variables for trend, seasonal and residual components respectively. \n",
    "# Assign them the relevant features of decomposition \n",
    "trend = decomposition.trend\n",
    "seasonal = decomposition.seasonal\n",
    "residual = decomposition.resid\n",
    "\n",
    "# Plot the original data, the trend, the seasonality, and the residuals \n",
    "plt.subplot(411)\n",
    "plt.plot(y, label = 'Original')\n",
    "plt.legend(loc = 'best')\n",
    "plt.subplot(412)\n",
    "plt.plot(trend, label = 'Trend')\n",
    "plt.legend(loc = 'best')\n",
    "plt.subplot(413)\n",
    "plt.plot(seasonal, label = 'Seasonality')\n",
    "plt.legend(loc = 'best')\n",
    "plt.subplot(414)\n",
    "plt.plot(residual, label = 'Residuals')\n",
    "plt.legend(loc = 'best')\n",
    "plt.tight_layout()"
   ]
  },
  {
   "cell_type": "code",
   "execution_count": 0,
   "metadata": {
    "colab": {
     "base_uri": "https://localhost:8080/",
     "height": 173
    },
    "colab_type": "code",
    "id": "okdKO9QiDDLj",
    "outputId": "8030152c-4236-46ba-a022-404fc6adabdf"
   },
   "outputs": [
    {
     "name": "stderr",
     "output_type": "stream",
     "text": [
      "/usr/local/lib/python3.6/dist-packages/statsmodels/tsa/stattools.py:1685: FutureWarning:\n",
      "\n",
      "The behavior of using lags=None will change in the next release. Currently lags=None is the same as lags='legacy', and so a sample-size lag length is used. After the next release, the default will change to be the same as lags='auto' which uses an automatic lag length selection method. To silence this warning, either use 'auto' or 'legacy'\n",
      "\n"
     ]
    },
    {
     "data": {
      "text/plain": [
       "(0.5804981324378083,\n",
       " 0.024409260687471967,\n",
       " 12,\n",
       " {'1%': 0.739, '10%': 0.347, '2.5%': 0.574, '5%': 0.463})"
      ]
     },
     "execution_count": 15,
     "metadata": {
      "tags": []
     },
     "output_type": "execute_result"
    }
   ],
   "source": [
    "#testing for stationarity\n",
    "from statsmodels.tsa.stattools import kpss\n",
    "kpss(y)"
   ]
  },
  {
   "cell_type": "markdown",
   "metadata": {
    "colab_type": "text",
    "id": "2QPle0QtDJ7c"
   },
   "source": [
    "Since our p-value is less than 0.05, we should reject the Null hypothesis and deduce the non-stationarity of our data. \n",
    "\n",
    "But our data need to be stationary! So we need to do some transforming."
   ]
  },
  {
   "cell_type": "code",
   "execution_count": 0,
   "metadata": {
    "colab": {},
    "colab_type": "code",
    "id": "v0K2kJWrCx7Z"
   },
   "outputs": [],
   "source": [
    "# Import mean_squared_error and ARIMA\n",
    "from sklearn.metrics import mean_squared_error\n",
    "from statsmodels.tsa.arima_model import ARIMA"
   ]
  },
  {
   "cell_type": "code",
   "execution_count": 0,
   "metadata": {
    "colab": {},
    "colab_type": "code",
    "id": "v85lWaniD6SZ"
   },
   "outputs": [],
   "source": [
    "# Make a function to find the MSE of a single ARIMA model \n",
    "def evaluate_arima_model(data, arima_order):\n",
    "    # Needs to be an integer because it is later used as an index.\n",
    "    split=int(len(data) * 0.8) \n",
    "    train, test = data[0:split], data[split:len(data)]\n",
    "    past=[x for x in train]\n",
    "    # make predictions\n",
    "    predictions = list()\n",
    "    for i in range(len(test)):#timestep-wise comparison between test data and one-step prediction ARIMA model. \n",
    "        model = ARIMA(past, order=arima_order)\n",
    "        model_fit = model.fit(disp=0)\n",
    "        future = model_fit.forecast()[0]\n",
    "        predictions.append(future)\n",
    "        past.append(test[i])\n",
    "    # calculate out of sample error\n",
    "    error = mean_squared_error(test, predictions)\n",
    "    return error"
   ]
  },
  {
   "cell_type": "code",
   "execution_count": 0,
   "metadata": {
    "colab": {},
    "colab_type": "code",
    "id": "_kxvgh50D857"
   },
   "outputs": [],
   "source": [
    "# Make a function to evaluate different ARIMA models with several different p, d, and q values.\n",
    "def evaluate_models(dataset, p_values, d_values, q_values):\n",
    "    best_score, best_cfg = float(\"inf\"), None\n",
    "    for p in p_values:\n",
    "        for d in d_values:\n",
    "            for q in q_values:\n",
    "                order = (p,d,q)\n",
    "                try:\n",
    "                    mse = evaluate_arima_model(dataset, order)\n",
    "                    if mse < best_score:\n",
    "                        best_score, best_cfg = mse, order\n",
    "                    print('ARIMA%s MSE=%.3f' % (order,mse))\n",
    "                except:\n",
    "                    continue\n",
    "    return print('Best ARIMA%s MSE=%.3f' % (best_cfg, best_score))"
   ]
  },
  {
   "cell_type": "code",
   "execution_count": 0,
   "metadata": {
    "colab": {},
    "colab_type": "code",
    "id": "6xP7gKO6EAF1"
   },
   "outputs": [],
   "source": [
    "# Now, we choose a couple of values to try for each parameter.\n",
    "p_values = [x for x in range(0, 4)]\n",
    "d_values = [x for x in range(0, 1)]\n",
    "q_values = [x for x in range(15, 20)]"
   ]
  },
  {
   "cell_type": "code",
   "execution_count": 0,
   "metadata": {
    "colab": {
     "base_uri": "https://localhost:8080/",
     "height": 34
    },
    "colab_type": "code",
    "id": "6OtUtVDLECol",
    "outputId": "14e7de9a-30ea-40d8-ad02-d6a438880f72"
   },
   "outputs": [
    {
     "name": "stdout",
     "output_type": "stream",
     "text": [
      "Best ARIMANone MSE=inf\n"
     ]
    }
   ],
   "source": [
    "# Finally, we can find the optimum ARIMA model for our data.\n",
    "# Nb. this can take a while...!\n",
    "import warnings\n",
    "warnings.filterwarnings(\"ignore\")\n",
    "y_log = np.log(y)\n",
    "evaluate_models(y_log, p_values, d_values, q_values)"
   ]
  },
  {
   "cell_type": "code",
   "execution_count": 0,
   "metadata": {
    "colab": {},
    "colab_type": "code",
    "id": "n66asbHiEGvP"
   },
   "outputs": [],
   "source": [
    "2p=0\n",
    "d=1\n",
    "q=2\n",
    "model = ARIMA(y_log, order=(p,d,q))\n",
    "model_fit = model.fit()\n",
    "forecast = model_fit.forecast(24)"
   ]
  },
  {
   "cell_type": "code",
   "execution_count": 0,
   "metadata": {
    "colab": {
     "base_uri": "https://localhost:8080/",
     "height": 334
    },
    "colab_type": "code",
    "id": "Ok9Z5tUcEbm0",
    "outputId": "ae9869bd-93a7-408c-d695-32855dd00669"
   },
   "outputs": [
    {
     "data": {
      "text/html": [
       "<table class=\"simpletable\">\n",
       "<caption>ARIMA Model Results</caption>\n",
       "<tr>\n",
       "  <th>Dep. Variable:</th>    <td>D.confirmed</td>   <th>  No. Observations:  </th>   <td>90</td>   \n",
       "</tr>\n",
       "<tr>\n",
       "  <th>Model:</th>          <td>ARIMA(0, 1, 2)</td>  <th>  Log Likelihood     </th> <td>21.418</td> \n",
       "</tr>\n",
       "<tr>\n",
       "  <th>Method:</th>             <td>css-mle</td>     <th>  S.D. of innovations</th>  <td>0.191</td> \n",
       "</tr>\n",
       "<tr>\n",
       "  <th>Date:</th>          <td>Sun, 03 May 2020</td> <th>  AIC                </th> <td>-34.836</td>\n",
       "</tr>\n",
       "<tr>\n",
       "  <th>Time:</th>              <td>16:10:00</td>     <th>  BIC                </th> <td>-24.837</td>\n",
       "</tr>\n",
       "<tr>\n",
       "  <th>Sample:</th>                <td>1</td>        <th>  HQIC               </th> <td>-30.804</td>\n",
       "</tr>\n",
       "<tr>\n",
       "  <th></th>                       <td> </td>        <th>                     </th>    <td> </td>   \n",
       "</tr>\n",
       "</table>\n",
       "<table class=\"simpletable\">\n",
       "<tr>\n",
       "          <td></td>             <th>coef</th>     <th>std err</th>      <th>z</th>      <th>P>|z|</th>  <th>[0.025</th>    <th>0.975]</th>  \n",
       "</tr>\n",
       "<tr>\n",
       "  <th>const</th>             <td>   -0.1516</td> <td>    0.026</td> <td>   -5.883</td> <td> 0.000</td> <td>   -0.202</td> <td>   -0.101</td>\n",
       "</tr>\n",
       "<tr>\n",
       "  <th>ma.L1.D.confirmed</th> <td>   -0.0080</td> <td>    0.103</td> <td>   -0.078</td> <td> 0.938</td> <td>   -0.210</td> <td>    0.194</td>\n",
       "</tr>\n",
       "<tr>\n",
       "  <th>ma.L2.D.confirmed</th> <td>    0.2975</td> <td>    0.093</td> <td>    3.208</td> <td> 0.002</td> <td>    0.116</td> <td>    0.479</td>\n",
       "</tr>\n",
       "</table>\n",
       "<table class=\"simpletable\">\n",
       "<caption>Roots</caption>\n",
       "<tr>\n",
       "    <td></td>   <th>            Real</th>  <th>         Imaginary</th> <th>         Modulus</th>  <th>        Frequency</th>\n",
       "</tr>\n",
       "<tr>\n",
       "  <th>MA.1</th> <td>           0.0135</td> <td>          -1.8332j</td> <td>           1.8333</td> <td>          -0.2488</td>\n",
       "</tr>\n",
       "<tr>\n",
       "  <th>MA.2</th> <td>           0.0135</td> <td>          +1.8332j</td> <td>           1.8333</td> <td>           0.2488</td>\n",
       "</tr>\n",
       "</table>"
      ],
      "text/plain": [
       "<class 'statsmodels.iolib.summary.Summary'>\n",
       "\"\"\"\n",
       "                             ARIMA Model Results                              \n",
       "==============================================================================\n",
       "Dep. Variable:            D.confirmed   No. Observations:                   90\n",
       "Model:                 ARIMA(0, 1, 2)   Log Likelihood                  21.418\n",
       "Method:                       css-mle   S.D. of innovations              0.191\n",
       "Date:                Sun, 03 May 2020   AIC                            -34.836\n",
       "Time:                        16:10:00   BIC                            -24.837\n",
       "Sample:                             1   HQIC                           -30.804\n",
       "                                                                              \n",
       "=====================================================================================\n",
       "                        coef    std err          z      P>|z|      [0.025      0.975]\n",
       "-------------------------------------------------------------------------------------\n",
       "const                -0.1516      0.026     -5.883      0.000      -0.202      -0.101\n",
       "ma.L1.D.confirmed    -0.0080      0.103     -0.078      0.938      -0.210       0.194\n",
       "ma.L2.D.confirmed     0.2975      0.093      3.208      0.002       0.116       0.479\n",
       "                                    Roots                                    \n",
       "=============================================================================\n",
       "                  Real          Imaginary           Modulus         Frequency\n",
       "-----------------------------------------------------------------------------\n",
       "MA.1            0.0135           -1.8332j            1.8333           -0.2488\n",
       "MA.2            0.0135           +1.8332j            1.8333            0.2488\n",
       "-----------------------------------------------------------------------------\n",
       "\"\"\""
      ]
     },
     "execution_count": 22,
     "metadata": {
      "tags": []
     },
     "output_type": "execute_result"
    }
   ],
   "source": [
    "model_fit.summary()"
   ]
  },
  {
   "cell_type": "code",
   "execution_count": 0,
   "metadata": {
    "colab": {
     "base_uri": "https://localhost:8080/",
     "height": 561
    },
    "colab_type": "code",
    "id": "Zut6705gOtEO",
    "outputId": "eb249d1a-4a8e-4a52-8e12-a644a2da22b2"
   },
   "outputs": [
    {
     "name": "stdout",
     "output_type": "stream",
     "text": [
      "                             ARIMA Model Results                              \n",
      "==============================================================================\n",
      "Dep. Variable:            D.confirmed   No. Observations:                   90\n",
      "Model:                 ARIMA(0, 1, 2)   Log Likelihood                -908.092\n",
      "Method:                       css-mle   S.D. of innovations           5756.106\n",
      "Date:                Sun, 03 May 2020   AIC                           1824.185\n",
      "Time:                        16:10:00   BIC                           1834.184\n",
      "Sample:                             1   HQIC                          1828.217\n",
      "                                                                              \n",
      "=====================================================================================\n",
      "                        coef    std err          z      P>|z|      [0.025      0.975]\n",
      "-------------------------------------------------------------------------------------\n",
      "const             -8868.6497   1830.136     -4.846      0.000   -1.25e+04   -5281.648\n",
      "ma.L1.D.confirmed     1.3426      0.091     14.777      0.000       1.165       1.521\n",
      "ma.L2.D.confirmed     0.7024      0.076      9.294      0.000       0.554       0.851\n",
      "                                    Roots                                    \n",
      "=============================================================================\n",
      "                  Real          Imaginary           Modulus         Frequency\n",
      "-----------------------------------------------------------------------------\n",
      "MA.1           -0.9557           -0.7143j            1.1932           -0.3979\n",
      "MA.2           -0.9557           +0.7143j            1.1932            0.3979\n",
      "-----------------------------------------------------------------------------\n",
      "Residuals Description\n",
      "count       90.000000\n",
      "mean      -212.875620\n",
      "std       6162.216333\n",
      "min     -25722.945765\n",
      "25%      -3505.106818\n",
      "50%       2846.983780\n",
      "75%       2917.026902\n",
      "max      12165.271881\n",
      "dtype: float64\n"
     ]
    }
   ],
   "source": [
    "from statsmodels.tsa.arima_model import ARIMA\n",
    "model = ARIMA(cdf.confirmed, order=(0,1,2))\n",
    "model_fit = model.fit()\n",
    "print(model_fit.summary())\n",
    "print('Residuals Description')\n",
    "print(model_fit.resid.describe())"
   ]
  },
  {
   "cell_type": "code",
   "execution_count": 0,
   "metadata": {
    "colab": {
     "base_uri": "https://localhost:8080/",
     "height": 391
    },
    "colab_type": "code",
    "id": "xCvCOhYhEfAL",
    "outputId": "f0783862-32a8-4751-fa8c-6303f9598d65"
   },
   "outputs": [
    {
     "data": {
      "text/plain": [
       "[<matplotlib.lines.Line2D at 0x7f9bad191ef0>]"
      ]
     },
     "execution_count": 24,
     "metadata": {
      "tags": []
     },
     "output_type": "execute_result"
    },
    {
     "data": {
      "image/png": "[encoded data removed]",
      "text/plain": [
       "<Figure size 1080x432 with 1 Axes>"
      ]
     },
     "metadata": {
      "needs_background": "light",
      "tags": []
     },
     "output_type": "display_data"
    }
   ],
   "source": [
    "plt.figure(figsize=(15,6))\n",
    "plt.plot(y_log.diff())\n",
    "plt.plot(model_fit.predict(), color = 'red')"
   ]
  },
  {
   "cell_type": "code",
   "execution_count": 0,
   "metadata": {
    "colab": {
     "base_uri": "https://localhost:8080/",
     "height": 300
    },
    "colab_type": "code",
    "id": "16eEIDUhPiLV",
    "outputId": "8534df9f-5a4e-4393-c5e5-929b196042b6"
   },
   "outputs": [
    {
     "data": {
      "text/plain": [
       "<matplotlib.axes._subplots.AxesSubplot at 0x7f9bad202cf8>"
      ]
     },
     "execution_count": 25,
     "metadata": {
      "tags": []
     },
     "output_type": "execute_result"
    },
    {
     "data": {
      "image/png": "[encoded data removed]",
      "text/plain": [
       "<Figure size 432x288 with 1 Axes>"
      ]
     },
     "metadata": {
      "needs_background": "light",
      "tags": []
     },
     "output_type": "display_data"
    }
   ],
   "source": [
    "from pandas.plotting import autocorrelation_plot\n",
    "autocorrelation_plot(y)"
   ]
  },
  {
   "cell_type": "code",
   "execution_count": 0,
   "metadata": {
    "colab": {
     "base_uri": "https://localhost:8080/",
     "height": 513
    },
    "colab_type": "code",
    "id": "Wj0fzy7DTjZm",
    "outputId": "2c121e79-02e2-4b92-9d8d-a547c3573481"
   },
   "outputs": [
    {
     "data": {
      "image/png": "[encoded data removed]",
      "text/plain": [
       "<Figure size 1152x504 with 1 Axes>"
      ]
     },
     "metadata": {
      "needs_background": "light",
      "tags": []
     },
     "output_type": "display_data"
    }
   ],
   "source": [
    "from statsmodels.tsa.stattools import acf, pacf\n",
    "#calling auto correlation function\n",
    "lag_acf = acf(y, nlags=300)\n",
    "#Plot PACF:\n",
    "plt.figure(figsize=(16, 7))\n",
    "plt.plot(lag_acf,marker='+')\n",
    "plt.axhline(y=0,linestyle='--',color='gray')\n",
    "plt.axhline(y=-1.96/np.sqrt(len(y)),linestyle='--',color='gray')\n",
    "plt.axhline(y=1.96/np.sqrt(len(y)),linestyle='--',color='gray')\n",
    "plt.title('Autocorrelation Function')\n",
    "plt.xlabel('number of lags')\n",
    "plt.ylabel('correlation')\n",
    "plt.tight_layout()"
   ]
  },
  {
   "cell_type": "code",
   "execution_count": 0,
   "metadata": {
    "colab": {
     "base_uri": "https://localhost:8080/",
     "height": 513
    },
    "colab_type": "code",
    "id": "gfXyM4oLG-n9",
    "outputId": "ba318937-f959-4b10-dcb6-c1b17598a1fc"
   },
   "outputs": [
    {
     "data": {
      "image/png": "[encoded data removed]",
      "text/plain": [
       "<Figure size 1152x504 with 1 Axes>"
      ]
     },
     "metadata": {
      "needs_background": "light",
      "tags": []
     },
     "output_type": "display_data"
    }
   ],
   "source": [
    "\n",
    "#calling partial correlation function\n",
    "lag_pacf = pacf(y, nlags=30, method='ols')\n",
    "#Plot PACF:\n",
    "plt.figure(figsize=(16, 7))\n",
    "plt.plot(lag_pacf,marker='+')\n",
    "plt.axhline(y=0,linestyle='--',color='gray')\n",
    "plt.axhline(y=-1.96/np.sqrt(len(y)),linestyle='--',color='gray')\n",
    "plt.axhline(y=1.96/np.sqrt(len(y)),linestyle='--',color='gray')\n",
    "plt.title('Partial Autocorrelation Function')\n",
    "plt.xlabel('Number of lags')\n",
    "plt.ylabel('correlation')\n",
    "plt.tight_layout()"
   ]
  },
  {
   "cell_type": "code",
   "execution_count": 0,
   "metadata": {
    "colab": {},
    "colab_type": "code",
    "id": "OjOF-lDHTZY7"
   },
   "outputs": [],
   "source": []
  }
 ],
 "metadata": {
  "colab": {
   "collapsed_sections": [],
   "include_colab_link": true,
   "name": "COVID19_GuidedCapstoneStep4andStep5-AnswerKey.ipynb",
   "provenance": []
  },
  "kernelspec": {
   "display_name": "Python 3",
   "language": "python",
   "name": "python3"
  },
  "language_info": {
   "codemirror_mode": {
    "name": "ipython",
    "version": 3
   },
   "file_extension": ".py",
   "mimetype": "text/x-python",
   "name": "python",
   "nbconvert_exporter": "python",
   "pygments_lexer": "ipython3",
   "version": "3.7.5"
  },
  "toc": {
   "base_numbering": "0",
   "nav_menu": {},
   "number_sections": true,
   "sideBar": true,
   "skip_h1_title": false,
   "title_cell": "Table of Contents",
   "title_sidebar": "Contents",
   "toc_cell": true,
   "toc_position": {
    "height": "calc(100% - 180px)",
    "left": "10px",
    "top": "150px",
    "width": "288px"
   },
   "toc_section_display": true,
   "toc_window_display": true
  }
 },
 "nbformat": 4,
 "nbformat_minor": 1
}
