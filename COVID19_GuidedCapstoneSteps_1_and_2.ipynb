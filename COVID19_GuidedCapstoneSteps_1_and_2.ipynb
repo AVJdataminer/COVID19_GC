{
  "nbformat": 4,
  "nbformat_minor": 0,
  "metadata": {
    "colab": {
      "name": "COVID19_GuidedCapstoneSteps_1_and_2.ipynb",
      "provenance": [],
      "collapsed_sections": [],
<<<<<<< HEAD
      "toc_visible": true
=======
      "toc_visible": true,
      "include_colab_link": true
>>>>>>> 137274e6d56c20bd9917632e095c9e677ed54a2c
    },
    "kernelspec": {
      "display_name": "Python 3",
      "language": "python",
      "name": "python3"
    },
    "language_info": {
      "codemirror_mode": {
        "name": "ipython",
        "version": 3
      },
      "file_extension": ".py",
      "mimetype": "text/x-python",
      "name": "python",
      "nbconvert_exporter": "python",
      "pygments_lexer": "ipython3",
      "version": "3.7.4"
    },
    "toc": {
      "base_numbering": "0",
      "nav_menu": {},
      "number_sections": true,
      "sideBar": true,
      "skip_h1_title": false,
      "title_cell": "Table of Contents",
      "title_sidebar": "Contents",
      "toc_cell": true,
      "toc_position": {
        "height": "calc(100% - 180px)",
        "left": "10px",
        "top": "150px",
        "width": "288px"
      },
      "toc_section_display": true,
      "toc_window_display": true
    }
  },
  "cells": [
    {
      "cell_type": "markdown",
      "metadata": {
<<<<<<< HEAD
=======
        "id": "view-in-github",
        "colab_type": "text"
      },
      "source": [
        "<a href=\"https://colab.research.google.com/github/AVJdataminer/COVID19_GC/blob/master/COVID19_GuidedCapstoneSteps_1_and_2.ipynb\" target=\"_parent\"><img src=\"https://colab.research.google.com/assets/colab-badge.svg\" alt=\"Open In Colab\"/></a>"
      ]
    },
    {
      "cell_type": "markdown",
      "metadata": {
>>>>>>> 137274e6d56c20bd9917632e095c9e677ed54a2c
        "colab_type": "text",
        "id": "cf5CmXQCZyF1"
      },
      "source": [
        "# COVID 19 Guided Capstone Steps 1 and 2\n",
        "\n",
        "In this notebook we will work through both the first and \n",
        "the second step in the [Data Science Method](http://bit.ly/363hKAM).\n",
        "\n",
        " With a clear problem identification completed we can progress on to the second step of Data Wrangling, this consists of multiple components including; Data Collection, Data Organization, Data Definitions, and Data Cleaning.  "
      ]
    },
    {
      "cell_type": "markdown",
      "metadata": {
        "colab_type": "text",
        "id": "Cc0lyndRYxYY"
      },
      "source": [
        "\n",
        "\n",
        "**The Data Science Method**  \n",
        "\n",
        "\n",
        "1.**Problem Identification**\n",
        " *  Problem statement formation \n",
        " *  Context \n",
        " * Criteria for success \n",
        " * Scope of solution space \n",
        " * Constraints \n",
        " * Stakeholders \n",
        " * Data sources\n",
        "\n",
        "\n",
        "2.   **Data Wrangling** \n",
        "  * Data Collection\n",
        "      - Locating the data\n",
        "      - Data loading\n",
        "      - Data joining\n",
        "   * Data Organization\n",
        "      -  File structure\n",
        "      -  Git & Github\n",
        "  * Data Definition\n",
        "      - Column names\n",
        "      - Data types (numeric, categorical, timestamp, etc.)\n",
        "      - Description of the columns\n",
        "      - Count or percent per unique values or codes (including NA)\n",
        "      - The range of values or codes  \n",
        "  * Data Cleaning\n",
        "      - NA or missing data\n",
        "      - Duplicates\n",
        " \n",
        "3.   Exploratory Data Analysis \n",
        "\n",
        "4.   Pre-processing and Training Data Development\n",
        "\n",
        "5.   Modeling \n",
        "\n",
        "6.   Documentation\n",
        "\n",
        "\n",
        "\n"
      ]
    },
    {
      "cell_type": "markdown",
      "metadata": {
        "id": "qR252EluC6om",
        "colab_type": "text"
      },
      "source": [
        "# Problem Identification"
      ]
    },
    {
      "cell_type": "markdown",
      "metadata": {
        "id": "vhu2dv7U2MTR",
        "colab_type": "text"
      },
      "source": [
        "An [outbreak of COVID-19 virus](https://en.wikipedia.org/wiki/2019%E2%80%9320_coronavirus_pandemic) started in December 2019 and at the time of the creation of this project was continuing to spread throughout the world. Many governments recommended only essential outings to public places and closed most business that do not serve food or sell essential items. An excellent [spatial dashboard](https://www.arcgis.com/apps/opsdashboard/index.html#/bda7594740fd40299423467b48e9ecf6) built by Johns Hopkins shows the daily confirmed cases by country. "
      ]
    },
    {
      "cell_type": "markdown",
      "metadata": {
        "id": "rL62qpl528_J",
        "colab_type": "text"
      },
      "source": [
        "## Problem Statement\n",
        "**<font color='DarkBlue'> What is the business problem you're investigating and what hypothesis can be made to support the business outcome?</font>**\n",
        "\n",
        "The problem we are looking to solve is to investigate and predict the spread of the coronavirus by region across the globe. "
      ]
    },
    {
      "cell_type": "markdown",
      "metadata": {
        "id": "2KhMcyHd5t3O",
        "colab_type": "text"
      },
      "source": [
        "## Context\n",
        "**<font color='DarkBlue'> Define any additional context for solving the problem?</font>**\n",
        "\n",
        "The problem is primarily focused on forcasting the spread of the COVID19."
      ]
    },
    {
      "cell_type": "markdown",
      "metadata": {
        "id": "5_wkWem56Kk0",
        "colab_type": "text"
      },
      "source": [
        "## Criteria for success\n",
        "In the absence of clearly defined success criteria and scope it can be difficult to identify when a project is complete.  \n",
        "**<font color='DarkBlue'> What do we expect to do with the model we create and how accurate must it be for us to use it in confidence? </font>**\n",
        "We expect to forecast the next day ahead number of confirmed coronavirus cases by region across the globe. We expect the model performance to vary by region with an overall accuracy above 70% for the model."
      ]
    },
    {
      "cell_type": "markdown",
      "metadata": {
        "id": "7OcfjAR16Jof",
        "colab_type": "text"
      },
      "source": [
        "## Scope of solution space\n",
        "**<font color='DarkBlue'> What are the details of the tasks to be completed to reach the solution? </font>**\n",
        "\n",
        "Following the Data Science Method, we will complete Data Wrangling, EDA, and Modeling in a way to support a deeper understanding of the data and stratify the data as we find appropriate."
      ]
    },
    {
      "cell_type": "markdown",
      "metadata": {
        "id": "J0d9S6ZdD0IW",
        "colab_type": "text"
      },
      "source": [
        "## Constraints \n",
        "If this analysis is meant to form recommendations we would describe the limitations of those recommendations here. "
      ]
    },
    {
      "cell_type": "markdown",
      "metadata": {
        "id": "EH05fejuEO7y",
        "colab_type": "text"
      },
      "source": [
        "## Stakeholders\n",
        "Given this project is on a topic affecting everyone, all people could be considered the stakeholders.  \n",
        "\n",
        "**<font color='DarkBlue'> Who will the results of this project be reported to?</font>**"
      ]
    },
    {
      "cell_type": "markdown",
      "metadata": {
        "id": "BdP3ORBmE6ST",
        "colab_type": "text"
      },
      "source": [
        "## Data Sources\n",
        "**<font color='DarkBlue'> What data will be used in this analysis?</font>**. \n",
        "\n",
        "We will be accessing a [dataset](https://www.openblender.io/#/dataset/explore/5e7a0d5d9516296cb86c6263) organized by Federico Riveroll on the Open Blender platform. He wrote a [Medium article](https://towardsdatascience.com/gather-all-the-coronavirus-data-with-python-19aa22167dea) using these data along with news and financial data for analysis."
      ]
    },
    {
      "cell_type": "markdown",
      "metadata": {
        "id": "bgDawPUlF-uM",
        "colab_type": "text"
      },
      "source": [
        "# Data Wrangling"
      ]
    },
    {
      "cell_type": "markdown",
      "metadata": {
        "id": "r_r_sv0QJjW7",
        "colab_type": "text"
      },
      "source": [
        "Install OpenBlender Module"
      ]
    },
    {
      "cell_type": "code",
      "metadata": {
        "id": "CFIWIgkrLFc1",
        "colab_type": "code",
        "colab": {}
      },
      "source": [
        "#Run once then comment out\n",
        "#! pip install OpenBlender"
      ],
      "execution_count": 0,
      "outputs": []
    },
    {
      "cell_type": "markdown",
      "metadata": {
        "colab_type": "text",
        "id": "9YQUNzQ_PqR9"
      },
      "source": [
        "## Data Collection"
      ]
    },
    {
      "cell_type": "markdown",
      "metadata": {
        "colab_type": "text",
        "id": "7PrMkSjBQEMZ"
      },
      "source": [
        "First we load the needed packages and modules into python. Including the new Open Blender package. Then we will load the data into a pandas data frame for ease of use."
      ]
    },
    {
      "cell_type": "code",
      "metadata": {
        "colab_type": "code",
        "id": "ry6WPL5eZyF3",
        "outputId": "679f5249-dd36-4e0b-c84e-bbd523334f45",
        "colab": {
          "base_uri": "https://localhost:8080/",
          "height": 71
        }
      },
      "source": [
        "#load python packages\n",
        "import os\n",
        "import pandas as pd\n",
        "import datetime\n",
        "import seaborn as sns\n",
        "import numpy as np\n",
        "from matplotlib import pyplot as plt\n",
        "import OpenBlender\n",
        "import json\n",
        "%matplotlib inline"
      ],
      "execution_count": 0,
      "outputs": [
        {
          "output_type": "stream",
          "text": [
            "/usr/local/lib/python3.6/dist-packages/statsmodels/tools/_testing.py:19: FutureWarning: pandas.util.testing is deprecated. Use the functions in the public API at pandas.testing instead.\n",
            "  import pandas.util.testing as tm\n"
          ],
          "name": "stderr"
        }
      ]
    },
    {
      "cell_type": "markdown",
      "metadata": {
        "colab_type": "text",
        "id": "630T-ogRZyF8"
      },
      "source": [
        "### Load data from Open Blender\n",
        "Note: To get a token you need to create an account on openblender.io (free), you’ll find it in the ‘Account’ tab on your profile icon. "
      ]
    },
    {
      "cell_type": "code",
      "metadata": {
        "id": "LgE7ORQ8Mr10",
        "colab_type": "code",
        "colab": {}
      },
      "source": [
        "YOUR_TOKEN_HERE = '5e84e9a395162973a9519e22qdmhWBbKKINJQoFoHWZ3mwhMbbEfP1'"
      ],
      "execution_count": 0,
      "outputs": []
    },
    {
      "cell_type": "markdown",
      "metadata": {
        "id": "Fdk0dl5IO_lV",
        "colab_type": "text"
      },
      "source": [
        "You may also want to update the start and end dates included in the download. once you run the code you will have to confirm the download by typing 'y' for yes or 'n' for no."
      ]
    },
    {
      "cell_type": "code",
      "metadata": {
        "id": "aepxzJxjMEw6",
        "colab_type": "code",
        "outputId": "d1694c67-fbe5-4d99-b4e1-5cb2610bef33",
        "colab": {
          "base_uri": "https://localhost:8080/",
          "height": 886
        }
      },
      "source": [
        "action = 'API_getObservationsFromDataset'\n",
        "parameters = { \n",
        " 'token':YOUR_TOKEN_HERE,\n",
        " 'id_dataset':'5e7a0d5d9516296cb86c6263',\n",
        " 'date_filter':{\n",
        "               \"start_date\":\"2020-01-01T06:00:00.000Z\",\n",
        "               \"end_date\":\"2020-03-30T06:00:00.000Z\"},\n",
        " 'consumption_confirmation':'on',\n",
        " 'add_date' : 'date'\n",
        "}\n",
        "\n",
        "df_confirmed = pd.read_json(json.dumps(OpenBlender.call(action, parameters)['sample']), convert_dates=False, convert_axes=False).sort_values('timestamp', ascending=False)\n",
        "df_confirmed.reset_index(drop=True, inplace=True)\n",
        "df_confirmed.head(10)\n"
      ],
      "execution_count": 0,
      "outputs": [
        {
          "output_type": "stream",
          "text": [
            "Task ID: '5e851abe0895fafb4a9d8d4b'.\n",
            "Total estimated consumption: 62673.54 processing units.\n",
            "Continue?  [y] yes \t [n] noy\n",
            "Task confirmed. Starting download..\n",
            "3.7 %\n",
            "7.41 %\n",
            "11.11 %\n",
            "14.81 %\n",
            "18.52 %\n",
            "22.22 %\n",
            "25.93 %\n",
            "29.63 %\n",
            "33.33 %\n",
            "37.04 %\n",
            "40.74 %\n",
            "44.44 %\n",
            "48.15 %\n",
            "51.85 %\n",
            "55.56 %\n",
            "59.26 %\n",
            "62.96 %\n",
            "66.67 %\n",
            "70.37 %\n",
            "74.07 %\n",
            "77.78 %\n",
            "81.48 %\n",
            "85.19 %\n",
            "88.89 %\n",
            "92.59 %\n",
            "96.3 %\n",
            "100.0 % completed.\n"
          ],
          "name": "stdout"
        },
        {
          "output_type": "execute_result",
          "data": {
            "text/html": [
              "<div>\n",
              "<style scoped>\n",
              "    .dataframe tbody tr th:only-of-type {\n",
              "        vertical-align: middle;\n",
              "    }\n",
              "\n",
              "    .dataframe tbody tr th {\n",
              "        vertical-align: top;\n",
              "    }\n",
              "\n",
              "    .dataframe thead th {\n",
              "        text-align: right;\n",
              "    }\n",
              "</style>\n",
              "<table border=\"1\" class=\"dataframe\">\n",
              "  <thead>\n",
              "    <tr style=\"text-align: right;\">\n",
              "      <th></th>\n",
              "      <th>confirmed</th>\n",
              "      <th>deaths</th>\n",
              "      <th>timestamp</th>\n",
              "      <th>province_state</th>\n",
              "      <th>long</th>\n",
              "      <th>country_region</th>\n",
              "      <th>timestamp.date</th>\n",
              "      <th>lat</th>\n",
              "      <th>recovered</th>\n",
              "    </tr>\n",
              "  </thead>\n",
              "  <tbody>\n",
              "    <tr>\n",
              "      <th>0</th>\n",
              "      <td>29</td>\n",
              "      <td>0</td>\n",
              "      <td>1585483200</td>\n",
              "      <td>null</td>\n",
              "      <td>28.2833</td>\n",
              "      <td>Zambia</td>\n",
              "      <td>2020-03-29</td>\n",
              "      <td>-15.4167</td>\n",
              "      <td>0</td>\n",
              "    </tr>\n",
              "    <tr>\n",
              "      <th>1</th>\n",
              "      <td>609</td>\n",
              "      <td>40</td>\n",
              "      <td>1585483200</td>\n",
              "      <td>null</td>\n",
              "      <td>30.0000</td>\n",
              "      <td>Egypt</td>\n",
              "      <td>2020-03-29</td>\n",
              "      <td>26.0000</td>\n",
              "      <td>132</td>\n",
              "    </tr>\n",
              "    <tr>\n",
              "      <th>2</th>\n",
              "      <td>2139</td>\n",
              "      <td>7</td>\n",
              "      <td>1585483200</td>\n",
              "      <td>null</td>\n",
              "      <td>-71.5430</td>\n",
              "      <td>Chile</td>\n",
              "      <td>2020-03-29</td>\n",
              "      <td>-35.6751</td>\n",
              "      <td>75</td>\n",
              "    </tr>\n",
              "    <tr>\n",
              "      <th>3</th>\n",
              "      <td>156</td>\n",
              "      <td>0</td>\n",
              "      <td>1585483200</td>\n",
              "      <td>Saskatchewan</td>\n",
              "      <td>-106.4509</td>\n",
              "      <td>Canada</td>\n",
              "      <td>2020-03-29</td>\n",
              "      <td>52.9399</td>\n",
              "      <td>null</td>\n",
              "    </tr>\n",
              "    <tr>\n",
              "      <th>4</th>\n",
              "      <td>2840</td>\n",
              "      <td>22</td>\n",
              "      <td>1585483200</td>\n",
              "      <td>Quebec</td>\n",
              "      <td>-73.5491</td>\n",
              "      <td>Canada</td>\n",
              "      <td>2020-03-29</td>\n",
              "      <td>52.9399</td>\n",
              "      <td>null</td>\n",
              "    </tr>\n",
              "    <tr>\n",
              "      <th>5</th>\n",
              "      <td>1355</td>\n",
              "      <td>21</td>\n",
              "      <td>1585483200</td>\n",
              "      <td>Ontario</td>\n",
              "      <td>-85.3232</td>\n",
              "      <td>Canada</td>\n",
              "      <td>2020-03-29</td>\n",
              "      <td>51.2538</td>\n",
              "      <td>null</td>\n",
              "    </tr>\n",
              "    <tr>\n",
              "      <th>6</th>\n",
              "      <td>122</td>\n",
              "      <td>0</td>\n",
              "      <td>1585483200</td>\n",
              "      <td>Nova Scotia</td>\n",
              "      <td>-63.7443</td>\n",
              "      <td>Canada</td>\n",
              "      <td>2020-03-29</td>\n",
              "      <td>44.6820</td>\n",
              "      <td>null</td>\n",
              "    </tr>\n",
              "    <tr>\n",
              "      <th>7</th>\n",
              "      <td>135</td>\n",
              "      <td>0</td>\n",
              "      <td>1585483200</td>\n",
              "      <td>Newfoundland and Labrador</td>\n",
              "      <td>-57.6604</td>\n",
              "      <td>Canada</td>\n",
              "      <td>2020-03-29</td>\n",
              "      <td>53.1355</td>\n",
              "      <td>null</td>\n",
              "    </tr>\n",
              "    <tr>\n",
              "      <th>8</th>\n",
              "      <td>66</td>\n",
              "      <td>0</td>\n",
              "      <td>1585483200</td>\n",
              "      <td>New Brunswick</td>\n",
              "      <td>-66.4619</td>\n",
              "      <td>Canada</td>\n",
              "      <td>2020-03-29</td>\n",
              "      <td>46.5653</td>\n",
              "      <td>null</td>\n",
              "    </tr>\n",
              "    <tr>\n",
              "      <th>9</th>\n",
              "      <td>72</td>\n",
              "      <td>1</td>\n",
              "      <td>1585483200</td>\n",
              "      <td>Manitoba</td>\n",
              "      <td>-98.8139</td>\n",
              "      <td>Canada</td>\n",
              "      <td>2020-03-29</td>\n",
              "      <td>53.7609</td>\n",
              "      <td>null</td>\n",
              "    </tr>\n",
              "  </tbody>\n",
              "</table>\n",
              "</div>"
            ],
            "text/plain": [
              "  confirmed deaths   timestamp  ... timestamp.date      lat recovered\n",
              "0        29      0  1585483200  ...     2020-03-29 -15.4167         0\n",
              "1       609     40  1585483200  ...     2020-03-29  26.0000       132\n",
              "2      2139      7  1585483200  ...     2020-03-29 -35.6751        75\n",
              "3       156      0  1585483200  ...     2020-03-29  52.9399      null\n",
              "4      2840     22  1585483200  ...     2020-03-29  52.9399      null\n",
              "5      1355     21  1585483200  ...     2020-03-29  51.2538      null\n",
              "6       122      0  1585483200  ...     2020-03-29  44.6820      null\n",
              "7       135      0  1585483200  ...     2020-03-29  53.1355      null\n",
              "8        66      0  1585483200  ...     2020-03-29  46.5653      null\n",
              "9        72      1  1585483200  ...     2020-03-29  53.7609      null\n",
              "\n",
              "[10 rows x 9 columns]"
            ]
          },
          "metadata": {
            "tags": []
          },
          "execution_count": 4
        }
      ]
    },
    {
      "cell_type": "code",
      "metadata": {
        "id": "OFuj-P9cOph9",
        "colab_type": "code",
        "outputId": "17a5a86c-a7d9-4a18-b199-c2521ff00b51",
        "colab": {
          "base_uri": "https://localhost:8080/",
          "height": 34
        }
      },
      "source": [
        "#save the data to csv for offline access.\n",
        "df_confirmed.to_csv('global_confirmed.csv',index=False)\n",
        "df_confirmed.shape"
      ],
      "execution_count": 0,
      "outputs": [
        {
          "output_type": "execute_result",
          "data": {
            "text/plain": [
              "(15835, 9)"
            ]
          },
          "metadata": {
            "tags": []
          },
          "execution_count": 5
        }
      ]
    },
    {
      "cell_type": "markdown",
      "metadata": {
        "id": "rCztLDSiNGSR",
        "colab_type": "text"
      },
      "source": [
        "Read in the saved csv file verion or rename 'df_confirmed' to 'df' to run the rest of the notebook."
      ]
    },
    {
      "cell_type": "code",
      "metadata": {
        "id": "xoQre3OEWjls",
        "colab_type": "code",
        "colab": {}
      },
      "source": [
        "df = df_confirmed\n",
        "#df = pd.read_csv('global_confirmed.csv')"
      ],
      "execution_count": 0,
      "outputs": []
    },
    {
      "cell_type": "markdown",
      "metadata": {
        "colab_type": "text",
        "id": "aRMZPPkjYYJl"
      },
      "source": [
        "## Data Organization"
      ]
    },
    {
      "cell_type": "markdown",
      "metadata": {
        "colab_type": "text",
        "id": "QocLKpWsbmzK"
      },
      "source": [
        "Data organization in this project is going to be completed through a basic project folder structure we create. As you read in the Medium article introducing the data wrangling step often this is completed using Github or a module such as cookiecutter. Now that we have our data and our notebook pointed our working project directory let's start by printing the current file location, then we will create a few subfolders to keep our project organized."
      ]
    },
    {
      "cell_type": "markdown",
      "metadata": {
        "id": "zRLiAvEvXjxh",
        "colab_type": "text"
      },
      "source": [
        "**<font color='DarkBlue'> Finish the statement below by assigning the path variable.</font>**"
      ]
    },
    {
      "cell_type": "code",
      "metadata": {
        "colab_type": "code",
        "id": "z9Ke_XEFcPrV",
        "colab": {}
      },
      "source": [
        "path = os.getcwd()"
      ],
      "execution_count": 0,
      "outputs": []
    },
    {
      "cell_type": "code",
      "metadata": {
        "id": "-7Xqv6owXjxk",
        "colab_type": "code",
        "outputId": "b064143e-0212-4dd1-967b-07eb01125bd3",
        "colab": {
          "base_uri": "https://localhost:8080/",
          "height": 34
        }
      },
      "source": [
        "print (\"The current working directory is %s\" % path)"
      ],
      "execution_count": 0,
      "outputs": [
        {
          "output_type": "stream",
          "text": [
            "The current working directory is /content\n"
          ],
          "name": "stdout"
        }
      ]
    },
    {
      "cell_type": "markdown",
      "metadata": {
        "colab_type": "text",
        "id": "OgCUIo6FqPzg"
      },
      "source": [
        "### Create subfolders in project directory"
      ]
    },
    {
      "cell_type": "markdown",
      "metadata": {
        "colab_type": "text",
        "id": "kkXs9gaGfzkR"
      },
      "source": [
        "Now, let's create some subfolders inside our Project folder."
      ]
    },
    {
      "cell_type": "markdown",
      "metadata": {
        "id": "7AjJ8aOvXjxo",
        "colab_type": "text"
      },
      "source": [
        "<font color='DarkBlue'> **Create a subfolder called `data`.**</font>"
      ]
    },
    {
      "cell_type": "code",
      "metadata": {
        "colab_type": "code",
        "id": "Uia7RDb1fzBj",
        "outputId": "a0fb8589-7091-4792-9d06-14dbd452a13c",
        "colab": {
          "base_uri": "https://localhost:8080/",
          "height": 34
        }
      },
      "source": [
        "# define the name of the directory to be created\n",
        "newfolder = \"/Users/aidenjohnson/Documents/project/data\"\n",
        "\n",
        "try:\n",
        "    os.mkdir(newfolder)\n",
        "except OSError:\n",
        "    print (\"Creation of the directory %s failed\" % newfolder)\n",
        "else:\n",
        "    print (\"Successfully created the directory %s \" % newfolder)"
      ],
      "execution_count": 0,
      "outputs": [
        {
          "output_type": "stream",
          "text": [
            "Creation of the directory /Users/aidenjohnson/Documents/project/data failed\n"
          ],
          "name": "stdout"
        }
      ]
    },
    {
      "cell_type": "markdown",
      "metadata": {
        "colab_type": "text",
        "id": "Fs-szPMUi0GL"
      },
      "source": [
        "<font color='DarkBlue'> **Create a folder for the data visualizations you will create in future steps called `figures`.**</font>"
      ]
    },
    {
      "cell_type": "code",
      "metadata": {
        "colab_type": "code",
        "id": "qfLr-ujSierP",
        "outputId": "57fa68f5-dfec-4b29-fa7d-f90c6839b6af",
        "colab": {
          "base_uri": "https://localhost:8080/",
          "height": 34
        }
      },
      "source": [
        "# define the name of the directory to be created\n",
        "newfolder = \"/Users/aidenjohnson/Documents/project/figures\"\n",
        "\n",
        "try:\n",
        "    os.mkdir(newfolder)\n",
        "except OSError:\n",
        "    print (\"Creation of the directory %s failed\" % newfolder)\n",
        "else:\n",
        "    print (\"Successfully created the directory %s \" % newfolder)"
      ],
      "execution_count": 0,
      "outputs": [
        {
          "output_type": "stream",
          "text": [
            "Creation of the directory /Users/aidenjohnson/Documents/project/figures failed\n"
          ],
          "name": "stdout"
        }
      ]
    },
    {
      "cell_type": "markdown",
      "metadata": {
        "colab_type": "text",
        "id": "wdjaNdfAizMH"
      },
      "source": [
        "<font color='DarkBlue'> **Create a folder for the models you save, called `models`.**</font>"
      ]
    },
    {
      "cell_type": "code",
      "metadata": {
        "colab_type": "code",
        "id": "fru6KMORimKD",
        "outputId": "1f528069-0c2a-4c09-a5b9-9645bd91ba61",
        "colab": {
          "base_uri": "https://localhost:8080/",
          "height": 34
        }
      },
      "source": [
        "# define the name of the directory to be created\n",
        "newfolder = \"/Users/aidenjohnson/Documents/project/models\"\n",
        "\n",
        "try:\n",
        "    os.mkdir(newfolder)\n",
        "except OSError:\n",
        "    print (\"Creation of the directory %s failed\" % newfolder)\n",
        "else:\n",
        "    print (\"Successfully created the directory %s \" % newfolder)"
      ],
      "execution_count": 0,
      "outputs": [
        {
          "output_type": "stream",
          "text": [
            "Creation of the directory /Users/aidenjohnson/Documents/project/models failed\n"
          ],
          "name": "stdout"
        }
      ]
    },
    {
      "cell_type": "markdown",
      "metadata": {
        "colab_type": "text",
        "id": "9cufs4ZUo3as"
      },
      "source": [
        "<font color='DarkBlue'> **Print the contents of your project folder to confirm you created the additional folders in your directory.**</font>"
      ]
    },
    {
      "cell_type": "code",
      "metadata": {
        "colab_type": "code",
        "id": "is6wXPH3pEeJ",
        "outputId": "93826bcc-e323-4245-e318-ab130a4e43c7",
        "colab": {
          "base_uri": "https://localhost:8080/",
          "height": 34
        }
      },
      "source": [
        "os.listdir()"
      ],
      "execution_count": 0,
      "outputs": [
        {
          "output_type": "execute_result",
          "data": {
            "text/plain": [
              "['.config', 'global_confirmed.csv', 'sample_data']"
            ]
          },
          "metadata": {
            "tags": []
          },
          "execution_count": 12
        }
      ]
    },
    {
      "cell_type": "markdown",
      "metadata": {
        "colab_type": "text",
        "id": "B41tFEs0jLyr"
      },
      "source": [
        "## Data Definition\n",
        "Review Column Names, Data Types, and null values."
      ]
    },
    {
      "cell_type": "markdown",
      "metadata": {
        "colab_type": "text",
        "id": "wRi0i3vuqzuu"
      },
      "source": [
        "### Column Names \n",
        "<font color='DarkBlue'> **Print the columns names of the entire dataframe**</font>"
      ]
    },
    {
      "cell_type": "code",
      "metadata": {
        "colab_type": "code",
        "id": "TJ_Cpxujq2C-",
        "outputId": "d1e14332-2daf-48f6-b3ce-359c9bb655f4",
        "colab": {
          "base_uri": "https://localhost:8080/",
          "height": 68
        }
      },
      "source": [
        "df.columns"
      ],
      "execution_count": 0,
      "outputs": [
        {
          "output_type": "execute_result",
          "data": {
            "text/plain": [
              "Index(['confirmed', 'deaths', 'timestamp', 'province_state', 'long',\n",
              "       'country_region', 'timestamp.date', 'lat', 'recovered'],\n",
              "      dtype='object')"
            ]
          },
          "metadata": {
            "tags": []
          },
          "execution_count": 13
        }
      ]
    },
    {
      "cell_type": "markdown",
      "metadata": {
        "colab_type": "text",
        "id": "TaNtPKb1sjaR"
      },
      "source": [
        "### Data Types \n",
        "Review which columns are integer, float, categorical, or dates. Make sure the data type loaded properly in the dataframe. "
      ]
    },
    {
      "cell_type": "markdown",
      "metadata": {
        "id": "vck9Lvk-Xjx5",
        "colab_type": "text"
      },
      "source": [
        "<font color='DarkBlue'> **Using the `pandas.dtypes` function print the variable names and associated datatypes.**</font>"
      ]
    },
    {
      "cell_type": "code",
      "metadata": {
        "colab_type": "code",
        "id": "nYhpP7RlPG94",
        "outputId": "6ad970f4-4e98-433f-c4a7-28d6a1ea57cc",
        "colab": {
          "base_uri": "https://localhost:8080/",
          "height": 328
        }
      },
      "source": [
        "vo = pd.DataFrame(df.dtypes).reset_index()\n",
        "vo.columns = ['VarName', 'DType']\n",
        "vo"
      ],
      "execution_count": 0,
      "outputs": [
        {
          "output_type": "execute_result",
          "data": {
            "text/html": [
              "<div>\n",
              "<style scoped>\n",
              "    .dataframe tbody tr th:only-of-type {\n",
              "        vertical-align: middle;\n",
              "    }\n",
              "\n",
              "    .dataframe tbody tr th {\n",
              "        vertical-align: top;\n",
              "    }\n",
              "\n",
              "    .dataframe thead th {\n",
              "        text-align: right;\n",
              "    }\n",
              "</style>\n",
              "<table border=\"1\" class=\"dataframe\">\n",
              "  <thead>\n",
              "    <tr style=\"text-align: right;\">\n",
              "      <th></th>\n",
              "      <th>VarName</th>\n",
              "      <th>DType</th>\n",
              "    </tr>\n",
              "  </thead>\n",
              "  <tbody>\n",
              "    <tr>\n",
              "      <th>0</th>\n",
              "      <td>confirmed</td>\n",
              "      <td>float64</td>\n",
              "    </tr>\n",
              "    <tr>\n",
              "      <th>1</th>\n",
              "      <td>deaths</td>\n",
              "      <td>float64</td>\n",
              "    </tr>\n",
              "    <tr>\n",
              "      <th>2</th>\n",
              "      <td>timestamp</td>\n",
              "      <td>int64</td>\n",
              "    </tr>\n",
              "    <tr>\n",
              "      <th>3</th>\n",
              "      <td>province_state</td>\n",
              "      <td>object</td>\n",
              "    </tr>\n",
              "    <tr>\n",
              "      <th>4</th>\n",
              "      <td>long</td>\n",
              "      <td>float64</td>\n",
              "    </tr>\n",
              "    <tr>\n",
              "      <th>5</th>\n",
              "      <td>country_region</td>\n",
              "      <td>object</td>\n",
              "    </tr>\n",
              "    <tr>\n",
              "      <th>6</th>\n",
              "      <td>timestamp.date</td>\n",
              "      <td>object</td>\n",
              "    </tr>\n",
              "    <tr>\n",
              "      <th>7</th>\n",
              "      <td>lat</td>\n",
              "      <td>float64</td>\n",
              "    </tr>\n",
              "    <tr>\n",
              "      <th>8</th>\n",
              "      <td>recovered</td>\n",
              "      <td>float64</td>\n",
              "    </tr>\n",
              "  </tbody>\n",
              "</table>\n",
              "</div>"
            ],
            "text/plain": [
              "          VarName    DType\n",
              "0       confirmed  float64\n",
              "1          deaths  float64\n",
              "2       timestamp    int64\n",
              "3  province_state   object\n",
              "4            long  float64\n",
              "5  country_region   object\n",
              "6  timestamp.date   object\n",
              "7             lat  float64\n",
              "8       recovered  float64"
            ]
          },
          "metadata": {
            "tags": []
          },
          "execution_count": 14
        }
      ]
    },
    {
      "cell_type": "markdown",
      "metadata": {
        "colab_type": "text",
        "id": "xbZepZ0zPM1I"
      },
      "source": [
        "<font color='DarkBlue'> **The `df.info()` function also prints the count of non-null values per column. Use this function to review the column names, null value counts and data types of your data frame.**</font>"
      ]
    },
    {
      "cell_type": "code",
      "metadata": {
        "colab_type": "code",
        "id": "0pHnZG1jjU3G",
        "outputId": "888e1572-42fd-4144-b668-62c572caeb41",
        "colab": {
          "base_uri": "https://localhost:8080/",
          "height": 289
        }
      },
      "source": [
        "df.info()"
      ],
      "execution_count": 0,
      "outputs": [
        {
          "output_type": "stream",
          "text": [
            "<class 'pandas.core.frame.DataFrame'>\n",
            "RangeIndex: 15835 entries, 0 to 15834\n",
            "Data columns (total 9 columns):\n",
            " #   Column          Non-Null Count  Dtype  \n",
            "---  ------          --------------  -----  \n",
            " 0   confirmed       15834 non-null  float64\n",
            " 1   deaths          15834 non-null  float64\n",
            " 2   timestamp       15835 non-null  int64  \n",
            " 3   province_state  4923 non-null   object \n",
            " 4   long            15835 non-null  float64\n",
            " 5   country_region  15835 non-null  object \n",
            " 6   timestamp.date  15835 non-null  object \n",
            " 7   lat             15835 non-null  float64\n",
            " 8   recovered       14691 non-null  float64\n",
            "dtypes: float64(5), int64(1), object(3)\n",
            "memory usage: 1.1+ MB\n"
          ],
          "name": "stdout"
        }
      ]
    },
    {
      "cell_type": "markdown",
      "metadata": {
        "colab_type": "text",
        "id": "K22bNiPkqsbb"
      },
      "source": [
        "Some of these column names are easy to understand but others are not as clear. We have a metadata file with information about each column to help us understand what the column names refer to. Let's review the about tab on the OpenBlender page."
      ]
    },
    {
      "cell_type": "markdown",
      "metadata": {
        "colab_type": "text",
        "id": "2PuwzPyIfNXf"
      },
      "source": [
        "[OpenBlender Metadata](https://www.openblender.io/#/dataset/about/5e7a0d5d9516296cb86c6263/edition)"
      ]
    },
    {
      "cell_type": "markdown",
      "metadata": {
        "colab_type": "text",
        "id": "kAQHgmbtelgH"
      },
      "source": [
        "There are some null or missing values we will need to mitgate in a later step. However, let's also look at the counts of unique values or codes per column first."
      ]
    },
    {
      "cell_type": "markdown",
      "metadata": {
        "colab_type": "text",
        "id": "atpuAuVTfqB-"
      },
      "source": [
        "### Count of unique values or codes\n",
        "<font color='DarkBlue'> **Print the count of unique values for every column regardless of data type.**</font>"
      ]
    },
    {
      "cell_type": "code",
      "metadata": {
        "colab_type": "code",
        "id": "uPd3Kki096wp",
        "outputId": "630aebe0-fd9e-46af-ca17-6591bfe87c96",
        "colab": {
          "base_uri": "https://localhost:8080/",
          "height": 187
        }
      },
      "source": [
        "df.nunique()"
      ],
      "execution_count": 0,
      "outputs": [
        {
          "output_type": "execute_result",
          "data": {
            "text/plain": [
              "confirmed         1229\n",
              "deaths             265\n",
              "timestamp           67\n",
              "province_state      80\n",
              "long               265\n",
              "country_region     179\n",
              "timestamp.date      67\n",
              "lat                263\n",
              "recovered          674\n",
              "dtype: int64"
            ]
          },
          "metadata": {
            "tags": []
          },
          "execution_count": 16
        }
      ]
    },
    {
      "cell_type": "markdown",
      "metadata": {
        "colab_type": "text",
        "id": "IpgqbVlqFqJH"
      },
      "source": [
        "<font color='DarkBlue'> **Print the percent of unique values per column.Use the `df.nunique` and the size of the dataframe to calculate the percentages.**</font>"
      ]
    },
    {
      "cell_type": "code",
      "metadata": {
        "colab_type": "code",
        "id": "Zs84OwNJEy2a",
        "outputId": "5bb3b044-b92f-42df-b9ef-eaff43f9bd77",
        "colab": {
          "base_uri": "https://localhost:8080/",
          "height": 187
        }
      },
      "source": [
        "print(df.nunique()/df.shape[0])"
      ],
      "execution_count": 0,
      "outputs": [
        {
          "output_type": "stream",
          "text": [
            "confirmed         0.077613\n",
            "deaths            0.016735\n",
            "timestamp         0.004231\n",
            "province_state    0.005052\n",
            "long              0.016735\n",
            "country_region    0.011304\n",
            "timestamp.date    0.004231\n",
            "lat               0.016609\n",
            "recovered         0.042564\n",
            "dtype: float64\n"
          ],
          "name": "stdout"
        }
      ]
    },
    {
      "cell_type": "markdown",
      "metadata": {
        "colab_type": "text",
        "id": "aFjEno7hHXRK"
      },
      "source": [
        "For categorical columns it is much more helpful to know what the unique codes are. <font color='DarkBlue'> **For example, if we look at the `country_region` or `province_state` column, let's print out the different countries in the data frame.**</font>"
      ]
    },
    {
      "cell_type": "code",
      "metadata": {
        "colab_type": "code",
        "id": "BMorHSRuIdnI",
        "outputId": "736a687b-9929-4259-ba6e-5bd1d721a985",
        "colab": {
          "base_uri": "https://localhost:8080/",
          "height": 221
        }
      },
      "source": [
        "df.country_region.value_counts()"
      ],
      "execution_count": 0,
      "outputs": [
        {
          "output_type": "execute_result",
          "data": {
            "text/plain": [
              "China             2188\n",
              "Canada             803\n",
              "France             662\n",
              "Australia          537\n",
              "United Kingdom     472\n",
              "                  ... \n",
              "Laos                 3\n",
              "Guinea-Bissau        3\n",
              "Burma                2\n",
              "MS Zaandam           1\n",
              "Botswana             1\n",
              "Name: country_region, Length: 179, dtype: int64"
            ]
          },
          "metadata": {
            "tags": []
          },
          "execution_count": 18
        }
      ]
    },
    {
      "cell_type": "markdown",
      "metadata": {
        "colab_type": "text",
        "id": "bedbwBrU-3yd"
      },
      "source": [
        "### Range of values per column\n",
        "\n",
        "<font color='DarkBlue'>**Print the minimum and maximum values of each column using the aggregate function.**</font>"
      ]
    },
    {
      "cell_type": "code",
      "metadata": {
        "colab_type": "code",
        "id": "LPJCPG1P-Vvb",
        "outputId": "13f753d6-0f08-4ce4-bb43-7b3729f14645",
        "colab": {
          "base_uri": "https://localhost:8080/",
          "height": 297
        }
      },
      "source": [
        "df.agg([min, max]).T"
      ],
      "execution_count": 0,
      "outputs": [
        {
          "output_type": "execute_result",
          "data": {
            "text/html": [
              "<div>\n",
              "<style scoped>\n",
              "    .dataframe tbody tr th:only-of-type {\n",
              "        vertical-align: middle;\n",
              "    }\n",
              "\n",
              "    .dataframe tbody tr th {\n",
              "        vertical-align: top;\n",
              "    }\n",
              "\n",
              "    .dataframe thead th {\n",
              "        text-align: right;\n",
              "    }\n",
              "</style>\n",
              "<table border=\"1\" class=\"dataframe\">\n",
              "  <thead>\n",
              "    <tr style=\"text-align: right;\">\n",
              "      <th></th>\n",
              "      <th>min</th>\n",
              "      <th>max</th>\n",
              "    </tr>\n",
              "  </thead>\n",
              "  <tbody>\n",
              "    <tr>\n",
              "      <th>confirmed</th>\n",
              "      <td>0</td>\n",
              "      <td>140886</td>\n",
              "    </tr>\n",
              "    <tr>\n",
              "      <th>deaths</th>\n",
              "      <td>0</td>\n",
              "      <td>10779</td>\n",
              "    </tr>\n",
              "    <tr>\n",
              "      <th>timestamp</th>\n",
              "      <td>1579694400</td>\n",
              "      <td>1585483200</td>\n",
              "    </tr>\n",
              "    <tr>\n",
              "      <th>long</th>\n",
              "      <td>-75152</td>\n",
              "      <td>149124</td>\n",
              "    </tr>\n",
              "    <tr>\n",
              "      <th>country_region</th>\n",
              "      <td>Afghanistan</td>\n",
              "      <td>Zimbabwe</td>\n",
              "    </tr>\n",
              "    <tr>\n",
              "      <th>timestamp.date</th>\n",
              "      <td>2020-01-22</td>\n",
              "      <td>2020-03-29</td>\n",
              "    </tr>\n",
              "    <tr>\n",
              "      <th>lat</th>\n",
              "      <td>-28167</td>\n",
              "      <td>48196</td>\n",
              "    </tr>\n",
              "    <tr>\n",
              "      <th>recovered</th>\n",
              "      <td>0</td>\n",
              "      <td>62570</td>\n",
              "    </tr>\n",
              "  </tbody>\n",
              "</table>\n",
              "</div>"
            ],
            "text/plain": [
              "                        min         max\n",
              "confirmed                 0      140886\n",
              "deaths                    0       10779\n",
              "timestamp        1579694400  1585483200\n",
              "long                 -75152      149124\n",
              "country_region  Afghanistan    Zimbabwe\n",
              "timestamp.date   2020-01-22  2020-03-29\n",
              "lat                  -28167       48196\n",
              "recovered                 0       62570"
            ]
          },
          "metadata": {
            "tags": []
          },
          "execution_count": 19
        }
      ]
    },
    {
      "cell_type": "markdown",
      "metadata": {
        "id": "RpgwwB98XjyR",
        "colab_type": "text"
      },
      "source": [
        "<font color='DarkBlue'> **Review the numeric data sets summary statistics.**</font>"
      ]
    },
    {
      "cell_type": "code",
      "metadata": {
        "colab_type": "code",
        "id": "2IKIsz8qjRK6",
        "outputId": "2e988d1b-5977-449e-bc85-c3d1aaad45af",
        "colab": {
          "base_uri": "https://localhost:8080/",
          "height": 235
        }
      },
      "source": [
        "df.describe().T"
      ],
      "execution_count": 0,
      "outputs": [
        {
          "output_type": "execute_result",
          "data": {
            "text/html": [
              "<div>\n",
              "<style scoped>\n",
              "    .dataframe tbody tr th:only-of-type {\n",
              "        vertical-align: middle;\n",
              "    }\n",
              "\n",
              "    .dataframe tbody tr th {\n",
              "        vertical-align: top;\n",
              "    }\n",
              "\n",
              "    .dataframe thead th {\n",
              "        text-align: right;\n",
              "    }\n",
              "</style>\n",
              "<table border=\"1\" class=\"dataframe\">\n",
              "  <thead>\n",
              "    <tr style=\"text-align: right;\">\n",
              "      <th></th>\n",
              "      <th>count</th>\n",
              "      <th>mean</th>\n",
              "      <th>std</th>\n",
              "      <th>min</th>\n",
              "      <th>25%</th>\n",
              "      <th>50%</th>\n",
              "      <th>75%</th>\n",
              "      <th>max</th>\n",
              "    </tr>\n",
              "  </thead>\n",
              "  <tbody>\n",
              "    <tr>\n",
              "      <th>confirmed</th>\n",
              "      <td>15834.0</td>\n",
              "      <td>5.389639e+02</td>\n",
              "      <td>4.887095e+03</td>\n",
              "      <td>0.000000e+00</td>\n",
              "      <td>0.000000e+00</td>\n",
              "      <td>0.000000e+00</td>\n",
              "      <td>3.200000e+01</td>\n",
              "      <td>1.408860e+05</td>\n",
              "    </tr>\n",
              "    <tr>\n",
              "      <th>deaths</th>\n",
              "      <td>15834.0</td>\n",
              "      <td>2.118214e+01</td>\n",
              "      <td>2.704087e+02</td>\n",
              "      <td>0.000000e+00</td>\n",
              "      <td>0.000000e+00</td>\n",
              "      <td>0.000000e+00</td>\n",
              "      <td>0.000000e+00</td>\n",
              "      <td>1.077900e+04</td>\n",
              "    </tr>\n",
              "    <tr>\n",
              "      <th>timestamp</th>\n",
              "      <td>15835.0</td>\n",
              "      <td>1.582532e+09</td>\n",
              "      <td>1.670466e+06</td>\n",
              "      <td>1.579694e+09</td>\n",
              "      <td>1.581077e+09</td>\n",
              "      <td>1.582546e+09</td>\n",
              "      <td>1.583928e+09</td>\n",
              "      <td>1.585483e+09</td>\n",
              "    </tr>\n",
              "    <tr>\n",
              "      <th>long</th>\n",
              "      <td>15835.0</td>\n",
              "      <td>6.240514e+01</td>\n",
              "      <td>3.421684e+03</td>\n",
              "      <td>-7.515200e+04</td>\n",
              "      <td>-1.445240e+01</td>\n",
              "      <td>2.175870e+01</td>\n",
              "      <td>9.000000e+01</td>\n",
              "      <td>1.491240e+05</td>\n",
              "    </tr>\n",
              "    <tr>\n",
              "      <th>lat</th>\n",
              "      <td>15835.0</td>\n",
              "      <td>9.128155e+01</td>\n",
              "      <td>1.706190e+03</td>\n",
              "      <td>-2.816700e+04</td>\n",
              "      <td>7.540000e+00</td>\n",
              "      <td>2.497400e+01</td>\n",
              "      <td>4.160860e+01</td>\n",
              "      <td>4.819600e+04</td>\n",
              "    </tr>\n",
              "    <tr>\n",
              "      <th>recovered</th>\n",
              "      <td>14691.0</td>\n",
              "      <td>1.623189e+02</td>\n",
              "      <td>2.260454e+03</td>\n",
              "      <td>0.000000e+00</td>\n",
              "      <td>0.000000e+00</td>\n",
              "      <td>0.000000e+00</td>\n",
              "      <td>1.000000e+00</td>\n",
              "      <td>6.257000e+04</td>\n",
              "    </tr>\n",
              "  </tbody>\n",
              "</table>\n",
              "</div>"
            ],
            "text/plain": [
              "             count          mean  ...           75%           max\n",
              "confirmed  15834.0  5.389639e+02  ...  3.200000e+01  1.408860e+05\n",
              "deaths     15834.0  2.118214e+01  ...  0.000000e+00  1.077900e+04\n",
              "timestamp  15835.0  1.582532e+09  ...  1.583928e+09  1.585483e+09\n",
              "long       15835.0  6.240514e+01  ...  9.000000e+01  1.491240e+05\n",
              "lat        15835.0  9.128155e+01  ...  4.160860e+01  4.819600e+04\n",
              "recovered  14691.0  1.623189e+02  ...  1.000000e+00  6.257000e+04\n",
              "\n",
              "[6 rows x 8 columns]"
            ]
          },
          "metadata": {
            "tags": []
          },
          "execution_count": 20
        }
      ]
    },
    {
      "cell_type": "markdown",
      "metadata": {
        "colab_type": "text",
        "id": "lSQPIPX89mC0"
      },
      "source": [
        "## Data Cleaning"
      ]
    },
    {
      "cell_type": "markdown",
      "metadata": {
        "colab_type": "text",
        "id": "ufPXh3kYL9ni"
      },
      "source": [
        "### Handle the missing and NA values\n",
        "Run the code below to print out the percent of each feature that is missing. "
      ]
    },
    {
      "cell_type": "code",
      "metadata": {
        "colab_type": "code",
        "id": "tP876MPtg5ak",
        "outputId": "64bec75b-5fa2-48c9-b023-6662acff903f",
        "colab": {
          "base_uri": "https://localhost:8080/",
          "height": 173
        }
      },
      "source": [
        "nas=pd.DataFrame(df.isnull().sum().sort_values(ascending=False)/len(df),columns = ['percent'])\n",
        "pos = nas['percent'] > 0\n",
        "nas[pos]"
      ],
      "execution_count": 0,
      "outputs": [
        {
          "output_type": "execute_result",
          "data": {
            "text/html": [
              "<div>\n",
              "<style scoped>\n",
              "    .dataframe tbody tr th:only-of-type {\n",
              "        vertical-align: middle;\n",
              "    }\n",
              "\n",
              "    .dataframe tbody tr th {\n",
              "        vertical-align: top;\n",
              "    }\n",
              "\n",
              "    .dataframe thead th {\n",
              "        text-align: right;\n",
              "    }\n",
              "</style>\n",
              "<table border=\"1\" class=\"dataframe\">\n",
              "  <thead>\n",
              "    <tr style=\"text-align: right;\">\n",
              "      <th></th>\n",
              "      <th>percent</th>\n",
              "    </tr>\n",
              "  </thead>\n",
              "  <tbody>\n",
              "    <tr>\n",
              "      <th>province_state</th>\n",
              "      <td>0.689106</td>\n",
              "    </tr>\n",
              "    <tr>\n",
              "      <th>recovered</th>\n",
              "      <td>0.072245</td>\n",
              "    </tr>\n",
              "    <tr>\n",
              "      <th>deaths</th>\n",
              "      <td>0.000063</td>\n",
              "    </tr>\n",
              "    <tr>\n",
              "      <th>confirmed</th>\n",
              "      <td>0.000063</td>\n",
              "    </tr>\n",
              "  </tbody>\n",
              "</table>\n",
              "</div>"
            ],
            "text/plain": [
              "                 percent\n",
              "province_state  0.689106\n",
              "recovered       0.072245\n",
              "deaths          0.000063\n",
              "confirmed       0.000063"
            ]
          },
          "metadata": {
            "tags": []
          },
          "execution_count": 21
        }
      ]
    },
    {
      "cell_type": "code",
      "metadata": {
        "id": "vBLTLhyX-B3z",
        "colab_type": "code",
        "outputId": "94a3f563-386b-434f-ccf9-260da9f840db",
        "colab": {
          "base_uri": "https://localhost:8080/",
          "height": 187
        }
      },
      "source": [
        "df.isnull().sum().sort_values(ascending=False)"
      ],
      "execution_count": 0,
      "outputs": [
        {
          "output_type": "execute_result",
          "data": {
            "text/plain": [
              "province_state    10912\n",
              "recovered          1144\n",
              "deaths                1\n",
              "confirmed             1\n",
              "lat                   0\n",
              "timestamp.date        0\n",
              "country_region        0\n",
              "long                  0\n",
              "timestamp             0\n",
              "dtype: int64"
            ]
          },
          "metadata": {
            "tags": []
          },
          "execution_count": 29
        }
      ]
    },
    {
      "cell_type": "markdown",
      "metadata": {
        "colab_type": "text",
        "id": "4JX9cGoecv5W"
      },
      "source": [
        "**<font color='DarkBlue'> We want to maintain as much data as possible, therefore we will fill null values in `province_state` with 'missing` and the others with with zero.</font>**"
      ]
    },
    {
      "cell_type": "code",
      "metadata": {
        "id": "CVU3Zu6I-vix",
        "colab_type": "code",
        "colab": {}
      },
      "source": [
        "df['province_state'] = df['province_state'].fillna('missing')"
      ],
      "execution_count": 0,
      "outputs": []
    },
    {
      "cell_type": "code",
      "metadata": {
        "id": "97D9Kx3k--QX",
        "colab_type": "code",
        "colab": {}
      },
      "source": [
        "df['recovered'].fillna(0, inplace=True)\n",
        "df['deaths'].fillna(0, inplace=True)\n",
        "df['confirmed'].fillna(0, inplace=True)"
      ],
      "execution_count": 0,
      "outputs": []
    },
    {
      "cell_type": "code",
      "metadata": {
        "colab_type": "code",
        "id": "g0wPY6L0c9Uj",
        "outputId": "7f8563b1-f82c-4860-9866-aebec61d7bad",
        "colab": {
          "base_uri": "https://localhost:8080/",
          "height": 187
        }
      },
      "source": [
        "df.isnull().sum().sort_values(ascending=False)"
      ],
      "execution_count": 0,
      "outputs": [
        {
          "output_type": "execute_result",
          "data": {
            "text/plain": [
              "recovered         0\n",
              "lat               0\n",
              "timestamp.date    0\n",
              "country_region    0\n",
              "long              0\n",
              "province_state    0\n",
              "timestamp         0\n",
              "deaths            0\n",
              "confirmed         0\n",
              "dtype: int64"
            ]
          },
          "metadata": {
            "tags": []
          },
          "execution_count": 35
        }
      ]
    },
    {
      "cell_type": "markdown",
      "metadata": {
        "id": "iaSEQ44DXjyv",
        "colab_type": "text"
      },
      "source": [
        "### Look for duplicate rows\n",
        "Run the code below to print out the duplicated rows."
      ]
    },
    {
      "cell_type": "code",
      "metadata": {
        "id": "xp2QsNvRXjyw",
        "colab_type": "code",
        "outputId": "4f487232-10d8-4a9b-94fd-dee14008d74b",
        "colab": {
          "base_uri": "https://localhost:8080/",
          "height": 204
        }
      },
      "source": [
        "duplicateRowsDF = df[df.duplicated()]\n",
        "duplicateRowsDF"
      ],
      "execution_count": 0,
      "outputs": [
        {
          "output_type": "execute_result",
          "data": {
            "text/html": [
              "<div>\n",
              "<style scoped>\n",
              "    .dataframe tbody tr th:only-of-type {\n",
              "        vertical-align: middle;\n",
              "    }\n",
              "\n",
              "    .dataframe tbody tr th {\n",
              "        vertical-align: top;\n",
              "    }\n",
              "\n",
              "    .dataframe thead th {\n",
              "        text-align: right;\n",
              "    }\n",
              "</style>\n",
              "<table border=\"1\" class=\"dataframe\">\n",
              "  <thead>\n",
              "    <tr style=\"text-align: right;\">\n",
              "      <th></th>\n",
              "      <th>confirmed</th>\n",
              "      <th>deaths</th>\n",
              "      <th>timestamp</th>\n",
              "      <th>province_state</th>\n",
              "      <th>long</th>\n",
              "      <th>country_region</th>\n",
              "      <th>timestamp.date</th>\n",
              "      <th>lat</th>\n",
              "      <th>recovered</th>\n",
              "    </tr>\n",
              "  </thead>\n",
              "  <tbody>\n",
              "    <tr>\n",
              "      <th>250</th>\n",
              "      <td>17.0</td>\n",
              "      <td>0.0</td>\n",
              "      <td>1585396800</td>\n",
              "      <td>Bermuda</td>\n",
              "      <td>-64.7505</td>\n",
              "      <td>United Kingdom</td>\n",
              "      <td>2020-03-28</td>\n",
              "      <td>32.3078</td>\n",
              "      <td>2.0</td>\n",
              "    </tr>\n",
              "    <tr>\n",
              "      <th>272</th>\n",
              "      <td>548.0</td>\n",
              "      <td>3.0</td>\n",
              "      <td>1585396800</td>\n",
              "      <td>Sichuan</td>\n",
              "      <td>102.7103</td>\n",
              "      <td>China</td>\n",
              "      <td>2020-03-28</td>\n",
              "      <td>30.6171</td>\n",
              "      <td>536.0</td>\n",
              "    </tr>\n",
              "    <tr>\n",
              "      <th>273</th>\n",
              "      <td>135.0</td>\n",
              "      <td>0.0</td>\n",
              "      <td>1585396800</td>\n",
              "      <td>Shanxi</td>\n",
              "      <td>112.2922</td>\n",
              "      <td>China</td>\n",
              "      <td>2020-03-28</td>\n",
              "      <td>37.5777</td>\n",
              "      <td>133.0</td>\n",
              "    </tr>\n",
              "    <tr>\n",
              "      <th>281</th>\n",
              "      <td>936.0</td>\n",
              "      <td>1.0</td>\n",
              "      <td>1585396800</td>\n",
              "      <td>Jiangxi</td>\n",
              "      <td>115.7221</td>\n",
              "      <td>China</td>\n",
              "      <td>2020-03-28</td>\n",
              "      <td>27.6140</td>\n",
              "      <td>934.0</td>\n",
              "    </tr>\n",
              "    <tr>\n",
              "      <th>282</th>\n",
              "      <td>641.0</td>\n",
              "      <td>0.0</td>\n",
              "      <td>1585396800</td>\n",
              "      <td>Jiangsu</td>\n",
              "      <td>119.4550</td>\n",
              "      <td>China</td>\n",
              "      <td>2020-03-28</td>\n",
              "      <td>32.9711</td>\n",
              "      <td>631.0</td>\n",
              "    </tr>\n",
              "  </tbody>\n",
              "</table>\n",
              "</div>"
            ],
            "text/plain": [
              "     confirmed  deaths   timestamp  ... timestamp.date      lat recovered\n",
              "250       17.0     0.0  1585396800  ...     2020-03-28  32.3078       2.0\n",
              "272      548.0     3.0  1585396800  ...     2020-03-28  30.6171     536.0\n",
              "273      135.0     0.0  1585396800  ...     2020-03-28  37.5777     133.0\n",
              "281      936.0     1.0  1585396800  ...     2020-03-28  27.6140     934.0\n",
              "282      641.0     0.0  1585396800  ...     2020-03-28  32.9711     631.0\n",
              "\n",
              "[5 rows x 9 columns]"
            ]
          },
          "metadata": {
            "tags": []
          },
          "execution_count": 36
        }
      ]
    },
    {
      "cell_type": "markdown",
      "metadata": {
        "id": "ZjUZfe--AyYG",
        "colab_type": "text"
      },
      "source": [
        "Now delete the duplicates from the dataframe."
      ]
    },
    {
      "cell_type": "code",
      "metadata": {
        "id": "Mr48OUQjC--d",
        "colab_type": "code",
        "colab": {}
      },
      "source": [
        "df.drop_duplicates(keep=False, inplace=True)"
      ],
      "execution_count": 0,
      "outputs": []
    },
    {
      "cell_type": "markdown",
      "metadata": {
        "colab_type": "text",
        "id": "dWqT9uvWiypo"
      },
      "source": [
        "## Export clean data to a new csv file \n",
        "In order to bring the changes we made here into the next notebook we are going to write out the updated data frame to a new csv file."
      ]
    },
    {
      "cell_type": "markdown",
      "metadata": {
        "id": "1RYyQ5swXjy0",
        "colab_type": "text"
      },
      "source": [
        "<font color='DarkBlue'> **Export the processed dataframe as a csv file to the data folder we created earlier. Name this new csv file `step2_output.csv` and set the paramter, index=False.**</font>"
      ]
    },
    {
      "cell_type": "code",
      "metadata": {
        "colab_type": "code",
        "id": "M4lsWjImoc3C",
        "colab": {}
      },
      "source": [
        "df.to_csv('data/step2_output.csv',index=False)"
      ],
      "execution_count": 0,
      "outputs": []
    },
    {
      "cell_type": "markdown",
      "metadata": {
        "colab_type": "text",
        "id": "KGMPQOFolxvs"
      },
      "source": [
        "The data transformations created in this step of the DSM are all generally steps to be applied to any data science project. However, the decisions we made about how to handle the missing and NA data are specific to the problem at hand. In the next step of the DSM and the next Guided Capstone Notebook you will see how all these steps prepare the data for exploratory data analysis."
      ]
    }
  ]
}