{
  "nbformat": 4,
  "nbformat_minor": 0,
  "metadata": {
    "colab": {
      "name": "COVID19_GuidedCapstoneSteps_1_and_2_noapi.ipynb",
      "provenance": [],
      "collapsed_sections": [],
      "toc_visible": true,
      "include_colab_link": true
    },
    "kernelspec": {
      "display_name": "Python 3",
      "language": "python",
      "name": "python3"
    },
    "language_info": {
      "codemirror_mode": {
        "name": "ipython",
        "version": 3
      },
      "file_extension": ".py",
      "mimetype": "text/x-python",
      "name": "python",
      "nbconvert_exporter": "python",
      "pygments_lexer": "ipython3",
      "version": "3.7.4"
    },
    "toc": {
      "base_numbering": "0",
      "nav_menu": {},
      "number_sections": true,
      "sideBar": true,
      "skip_h1_title": false,
      "title_cell": "Table of Contents",
      "title_sidebar": "Contents",
      "toc_cell": true,
      "toc_position": {
        "height": "calc(100% - 180px)",
        "left": "10px",
        "top": "150px",
        "width": "288px"
      },
      "toc_section_display": true,
      "toc_window_display": true
    }
  },
  "cells": [
    {
      "cell_type": "markdown",
      "metadata": {
        "id": "view-in-github",
        "colab_type": "text"
      },
      "source": [
        "<a href=\"https://colab.research.google.com/github/AVJdataminer/COVID19_GC/blob/master/COVID19_GuidedCapstoneSteps_1_and_2_noapi.ipynb\" target=\"_parent\"><img src=\"https://colab.research.google.com/assets/colab-badge.svg\" alt=\"Open In Colab\"/></a>"
      ]
    },
    {
      "cell_type": "markdown",
      "metadata": {
        "colab_type": "text",
        "id": "cf5CmXQCZyF1"
      },
      "source": [
        "# COVID 19 Guided Capstone Steps 1 and 2\n",
        "\n",
        "In this notebook we will work through both the first and \n",
        "the second step in the [Data Science Method](http://bit.ly/363hKAM).\n",
        "\n",
        " With a clear problem identification completed we can progress on to the second step of Data Wrangling, this consists of multiple components including; Data Collection, Data Organization, Data Definitions, and Data Cleaning.  "
      ]
    },
    {
      "cell_type": "markdown",
      "metadata": {
        "colab_type": "text",
        "id": "Cc0lyndRYxYY"
      },
      "source": [
        "\n",
        "\n",
        "**The Data Science Method**  \n",
        "\n",
        "\n",
        "1.**Problem Identification**\n",
        " *  Problem statement formation \n",
        " *  Context \n",
        " * Criteria for success \n",
        " * Scope of solution space \n",
        " * Constraints \n",
        " * Stakeholders \n",
        " * Data sources\n",
        "\n",
        "\n",
        "2.   **Data Wrangling** \n",
        "  * Data Collection\n",
        "      - Locating the data\n",
        "      - Data loading\n",
        "      - Data joining\n",
        "   * Data Organization\n",
        "      -  File structure\n",
        "      -  Git & Github\n",
        "  * Data Definition\n",
        "      - Column names\n",
        "      - Data types (numeric, categorical, timestamp, etc.)\n",
        "      - Description of the columns\n",
        "      - Count or percent per unique values or codes (including NA)\n",
        "      - The range of values or codes  \n",
        "  * Data Cleaning\n",
        "      - NA or missing data\n",
        "      - Duplicates\n",
        " \n",
        "3.   Exploratory Data Analysis \n",
        "\n",
        "4.   Pre-processing and Training Data Development\n",
        "\n",
        "5.   Modeling \n",
        "\n",
        "6.   Documentation\n",
        "\n",
        "\n",
        "\n"
      ]
    },
    {
      "cell_type": "markdown",
      "metadata": {
        "id": "qR252EluC6om",
        "colab_type": "text"
      },
      "source": [
        "# Problem Identification"
      ]
    },
    {
      "cell_type": "markdown",
      "metadata": {
        "id": "vhu2dv7U2MTR",
        "colab_type": "text"
      },
      "source": [
        "An [outbreak of COVID-19 virus](https://en.wikipedia.org/wiki/2019%E2%80%9320_coronavirus_pandemic) started in December 2019 and at the time of the creation of this project was continuing to spread throughout the world. Many governments recommended only essential outings to public places and closed most business that do not serve food or sell essential items. An excellent [spatial dashboard](https://www.arcgis.com/apps/opsdashboard/index.html#/bda7594740fd40299423467b48e9ecf6) built by Johns Hopkins shows the daily confirmed cases by country. "
      ]
    },
    {
      "cell_type": "markdown",
      "metadata": {
        "id": "rL62qpl528_J",
        "colab_type": "text"
      },
      "source": [
        "## Problem Statement\n",
        "**<font color='DarkBlue'> What is the business problem you're investigating and what hypothesis can be made to support the business outcome?</font>**\n",
        "\n",
        "The problem we are looking to solve is to investigate and predict the spread of the coronavirus by region across the globe. "
      ]
    },
    {
      "cell_type": "markdown",
      "metadata": {
        "id": "2KhMcyHd5t3O",
        "colab_type": "text"
      },
      "source": [
        "## Context\n",
        "**<font color='DarkBlue'> Define any additional context for solving the problem?</font>**\n",
        "\n",
        "The problem is primarily focused on forcasting the spread of the COVID19."
      ]
    },
    {
      "cell_type": "markdown",
      "metadata": {
        "id": "5_wkWem56Kk0",
        "colab_type": "text"
      },
      "source": [
        "## Criteria for success\n",
        "In the absence of clearly defined success criteria and scope it can be difficult to identify when a project is complete.  \n",
        "**<font color='DarkBlue'> What do we expect to do with the model we create and how accurate must it be for us to use it in confidence? </font>**\n",
        "We expect to forecast the next day ahead number of confirmed coronavirus cases by region across the globe. We expect the model performance to vary by region with an overall accuracy above 70% for the model."
      ]
    },
    {
      "cell_type": "markdown",
      "metadata": {
        "id": "7OcfjAR16Jof",
        "colab_type": "text"
      },
      "source": [
        "## Scope of solution space\n",
        "**<font color='DarkBlue'> What are the details of the tasks to be completed to reach the solution? </font>**\n",
        "\n",
        "Following the Data Science Method, we will complete Data Wrangling, EDA, and Modeling in a way to support a deeper understanding of the data and stratify the data as we find appropriate."
      ]
    },
    {
      "cell_type": "markdown",
      "metadata": {
        "id": "J0d9S6ZdD0IW",
        "colab_type": "text"
      },
      "source": [
        "## Constraints \n",
        "If this analysis is meant to form recommendations we would describe the limitations of those recommendations here. "
      ]
    },
    {
      "cell_type": "markdown",
      "metadata": {
        "id": "EH05fejuEO7y",
        "colab_type": "text"
      },
      "source": [
        "## Stakeholders\n",
        "Given this project is on a topic affecting everyone, all people could be considered the stakeholders.  \n",
        "\n",
        "**<font color='DarkBlue'> Who will the results of this project be reported to?</font>**"
      ]
    },
    {
      "cell_type": "markdown",
      "metadata": {
        "id": "BdP3ORBmE6ST",
        "colab_type": "text"
      },
      "source": [
        "## Data Sources\n",
        "**<font color='DarkBlue'> What data will be used in this analysis?</font>**. \n",
        "\n",
        "We will be accessing a [dataset](https://www.openblender.io/#/dataset/explore/5e7a0d5d9516296cb86c6263) organized by Federico Riveroll on the Open Blender platform. He wrote a [Medium article](https://towardsdatascience.com/gather-all-the-coronavirus-data-with-python-19aa22167dea) using these data along with news and financial data for analysis. We have downloaded the data from OpenBlender and will access that data from a CSV file."
      ]
    },
    {
      "cell_type": "markdown",
      "metadata": {
        "id": "bgDawPUlF-uM",
        "colab_type": "text"
      },
      "source": [
        "# Data Wrangling"
      ]
    },
    {
      "cell_type": "markdown",
      "metadata": {
        "colab_type": "text",
        "id": "9YQUNzQ_PqR9"
      },
      "source": [
        "## Data Collection"
      ]
    },
    {
      "cell_type": "markdown",
      "metadata": {
        "colab_type": "text",
        "id": "7PrMkSjBQEMZ"
      },
      "source": [
        "First we load the needed packages and modules into python. Including the new Open Blender package. Then we will load the data into a pandas data frame for ease of use."
      ]
    },
    {
      "cell_type": "code",
      "metadata": {
        "colab_type": "code",
        "id": "ry6WPL5eZyF3",
        "colab": {}
      },
      "source": [
        "#load python packages\n",
        "import os\n",
        "import pandas as pd\n",
        "import datetime\n",
        "import seaborn as sns\n",
        "import numpy as np\n",
        "from matplotlib import pyplot as plt\n",
        "import json\n",
        "%matplotlib inline"
      ],
      "execution_count": 0,
      "outputs": []
    },
    {
      "cell_type": "markdown",
      "metadata": {
        "id": "rCztLDSiNGSR",
        "colab_type": "text"
      },
      "source": [
        "Read in the saved csv file to 'df' to run the rest of the notebook."
      ]
    },
    {
      "cell_type": "code",
      "metadata": {
        "id": "xoQre3OEWjls",
        "colab_type": "code",
        "colab": {}
      },
      "source": [
        "file='https://raw.githubusercontent.com/AVJdataminer/COVID19_GC/master/%20data/global_confirmed.csv'\n",
        "df=pd.read_csv(file)\n",
        "df.head()"
      ],
      "execution_count": 0,
      "outputs": []
    },
    {
      "cell_type": "markdown",
      "metadata": {
        "colab_type": "text",
        "id": "aRMZPPkjYYJl"
      },
      "source": [
        "## Data Organization"
      ]
    },
    {
      "cell_type": "markdown",
      "metadata": {
        "colab_type": "text",
        "id": "QocLKpWsbmzK"
      },
      "source": [
        "Data organization in this project is going to be completed through a basic project folder structure we create. As you read in the Medium article introducing the data wrangling step often this is completed using Github or a module such as cookiecutter. Now that we have our data and our notebook pointed our working project directory let's start by printing the current file location to review the files in our working directory. "
      ]
    },
    {
      "cell_type": "markdown",
      "metadata": {
        "id": "zRLiAvEvXjxh",
        "colab_type": "text"
      },
      "source": [
        "**<font color='DarkBlue'> Finish the statement below by assigning the path variable.</font>**"
      ]
    },
    {
      "cell_type": "code",
      "metadata": {
        "colab_type": "code",
        "id": "z9Ke_XEFcPrV",
        "colab": {}
      },
      "source": [
        "path = os.getcwd()"
      ],
      "execution_count": 0,
      "outputs": []
    },
    {
      "cell_type": "code",
      "metadata": {
        "id": "-7Xqv6owXjxk",
        "colab_type": "code",
        "colab": {}
      },
      "source": [
        "print (\"The current working directory is %s\" % path)"
      ],
      "execution_count": 0,
      "outputs": []
    },
    {
      "cell_type": "markdown",
      "metadata": {
        "id": "01ag4G2s-4Z3",
        "colab_type": "text"
      },
      "source": [
        "**<font color='DarkBlue'>Print the files in your working directory.</font>**"
      ]
    },
    {
      "cell_type": "code",
      "metadata": {
        "colab_type": "code",
        "id": "is6wXPH3pEeJ",
        "colab": {}
      },
      "source": [
        "os.listdir()"
      ],
      "execution_count": 0,
      "outputs": []
    },
    {
      "cell_type": "markdown",
      "metadata": {
        "colab_type": "text",
        "id": "B41tFEs0jLyr"
      },
      "source": [
        "## Data Definition\n",
        "Review Column Names, Data Types, and null values."
      ]
    },
    {
      "cell_type": "markdown",
      "metadata": {
        "colab_type": "text",
        "id": "wRi0i3vuqzuu"
      },
      "source": [
        "### Column Names \n",
        "<font color='DarkBlue'> **Print the columns names of the entire dataframe**</font>"
      ]
    },
    {
      "cell_type": "code",
      "metadata": {
        "colab_type": "code",
        "id": "TJ_Cpxujq2C-",
        "colab": {}
      },
      "source": [
        "df.columns"
      ],
      "execution_count": 0,
      "outputs": []
    },
    {
      "cell_type": "markdown",
      "metadata": {
        "colab_type": "text",
        "id": "TaNtPKb1sjaR"
      },
      "source": [
        "### Data Types \n",
        "Review which columns are integer, float, categorical, or dates. Make sure the data type loaded properly in the dataframe. "
      ]
    },
    {
      "cell_type": "markdown",
      "metadata": {
        "id": "vck9Lvk-Xjx5",
        "colab_type": "text"
      },
      "source": [
        "<font color='DarkBlue'> **Using the `pandas.dtypes` function print the variable names and associated datatypes.**</font>"
      ]
    },
    {
      "cell_type": "code",
      "metadata": {
        "colab_type": "code",
        "id": "nYhpP7RlPG94",
        "colab": {}
      },
      "source": [
        "vo = pd.DataFrame(df.dtypes).reset_index()\n",
        "vo.columns = ['VarName', 'DType']\n",
        "vo"
      ],
      "execution_count": 0,
      "outputs": []
    },
    {
      "cell_type": "markdown",
      "metadata": {
        "colab_type": "text",
        "id": "xbZepZ0zPM1I"
      },
      "source": [
        "<font color='DarkBlue'> **The `df.info()` function also prints the count of non-null values per column. Use this function to review the column names, null value counts and data types of your data frame.**</font>"
      ]
    },
    {
      "cell_type": "code",
      "metadata": {
        "colab_type": "code",
        "id": "0pHnZG1jjU3G",
        "colab": {}
      },
      "source": [
        "df.info()"
      ],
      "execution_count": 0,
      "outputs": []
    },
    {
      "cell_type": "markdown",
      "metadata": {
        "colab_type": "text",
        "id": "K22bNiPkqsbb"
      },
      "source": [
        "Some of these column names are easy to understand but others are not as clear. We have a metadata file with information about each column to help us understand what the column names refer to. Let's review the about tab on the OpenBlender page."
      ]
    },
    {
      "cell_type": "markdown",
      "metadata": {
        "colab_type": "text",
        "id": "2PuwzPyIfNXf"
      },
      "source": [
        "[OpenBlender Metadata](https://www.openblender.io/#/dataset/about/5e7a0d5d9516296cb86c6263/edition)"
      ]
    },
    {
      "cell_type": "markdown",
      "metadata": {
        "colab_type": "text",
        "id": "kAQHgmbtelgH"
      },
      "source": [
        "There are some null or missing values we will need to mitgate in a later step. However, let's also look at the counts of unique values or codes per column first."
      ]
    },
    {
      "cell_type": "markdown",
      "metadata": {
        "colab_type": "text",
        "id": "atpuAuVTfqB-"
      },
      "source": [
        "### Count of unique values or codes\n",
        "<font color='DarkBlue'> **Print the count of unique values for every column regardless of data type.**</font>"
      ]
    },
    {
      "cell_type": "code",
      "metadata": {
        "colab_type": "code",
        "id": "uPd3Kki096wp",
        "colab": {}
      },
      "source": [
        "df.nunique()"
      ],
      "execution_count": 0,
      "outputs": []
    },
    {
      "cell_type": "markdown",
      "metadata": {
        "colab_type": "text",
        "id": "IpgqbVlqFqJH"
      },
      "source": [
        "<font color='DarkBlue'> **Print the percent of unique values per column.Use the `df.nunique` and the size of the dataframe to calculate the percentages.**</font>"
      ]
    },
    {
      "cell_type": "code",
      "metadata": {
        "colab_type": "code",
        "id": "Zs84OwNJEy2a",
        "colab": {}
      },
      "source": [
        "print(df.nunique()/df.shape[0])"
      ],
      "execution_count": 0,
      "outputs": []
    },
    {
      "cell_type": "markdown",
      "metadata": {
        "colab_type": "text",
        "id": "aFjEno7hHXRK"
      },
      "source": [
        "For categorical columns it is much more helpful to know what the unique codes are. <font color='DarkBlue'> **For example, if we look at the `country_region` or `province_state` column, let's print out the different countries in the data frame.**</font>"
      ]
    },
    {
      "cell_type": "code",
      "metadata": {
        "colab_type": "code",
        "id": "BMorHSRuIdnI",
        "colab": {}
      },
      "source": [
        "df.country_region.value_counts()"
      ],
      "execution_count": 0,
      "outputs": []
    },
    {
      "cell_type": "markdown",
      "metadata": {
        "colab_type": "text",
        "id": "bedbwBrU-3yd"
      },
      "source": [
        "### Range of values per column\n",
        "\n",
        "<font color='DarkBlue'>**Print the minimum and maximum values of each column using the aggregate function.**</font>"
      ]
    },
    {
      "cell_type": "code",
      "metadata": {
        "colab_type": "code",
        "id": "LPJCPG1P-Vvb",
        "colab": {}
      },
      "source": [
        "df.agg([min, max]).T"
      ],
      "execution_count": 0,
      "outputs": []
    },
    {
      "cell_type": "markdown",
      "metadata": {
        "id": "RpgwwB98XjyR",
        "colab_type": "text"
      },
      "source": [
        "<font color='DarkBlue'> **Review the numeric data sets summary statistics.**</font>"
      ]
    },
    {
      "cell_type": "code",
      "metadata": {
        "colab_type": "code",
        "id": "2IKIsz8qjRK6",
        "colab": {}
      },
      "source": [
        "df.describe().T"
      ],
      "execution_count": 0,
      "outputs": []
    },
    {
      "cell_type": "markdown",
      "metadata": {
        "colab_type": "text",
        "id": "lSQPIPX89mC0"
      },
      "source": [
        "## Data Cleaning"
      ]
    },
    {
      "cell_type": "markdown",
      "metadata": {
        "colab_type": "text",
        "id": "ufPXh3kYL9ni"
      },
      "source": [
        "### Handle the missing and NA values\n",
        "Run the code below to print out the percent of each feature that is missing. "
      ]
    },
    {
      "cell_type": "code",
      "metadata": {
        "colab_type": "code",
        "id": "tP876MPtg5ak",
        "colab": {}
      },
      "source": [
        "nas=pd.DataFrame(df.isnull().sum().sort_values(ascending=False)/len(df),columns = ['percent'])\n",
        "pos = nas['percent'] > 0\n",
        "nas[pos]"
      ],
      "execution_count": 0,
      "outputs": []
    },
    {
      "cell_type": "code",
      "metadata": {
        "id": "vBLTLhyX-B3z",
        "colab_type": "code",
        "colab": {}
      },
      "source": [
        "df.isnull().sum().sort_values(ascending=False)"
      ],
      "execution_count": 0,
      "outputs": []
    },
    {
      "cell_type": "markdown",
      "metadata": {
        "colab_type": "text",
        "id": "4JX9cGoecv5W"
      },
      "source": [
        "**<font color='DarkBlue'> We want to maintain as much data as possible, therefore we will fill null values in `province_state` with 'missing` and the others with with zero.</font>**"
      ]
    },
    {
      "cell_type": "code",
      "metadata": {
        "id": "CVU3Zu6I-vix",
        "colab_type": "code",
        "colab": {}
      },
      "source": [
        "df['province_state'] = df['province_state'].fillna('missing')"
      ],
      "execution_count": 0,
      "outputs": []
    },
    {
      "cell_type": "code",
      "metadata": {
        "id": "97D9Kx3k--QX",
        "colab_type": "code",
        "colab": {}
      },
      "source": [
        "df['recovered'].fillna(0, inplace=True)\n",
        "df['deaths'].fillna(0, inplace=True)\n",
        "df['confirmed'].fillna(0, inplace=True)"
      ],
      "execution_count": 0,
      "outputs": []
    },
    {
      "cell_type": "code",
      "metadata": {
        "colab_type": "code",
        "id": "g0wPY6L0c9Uj",
        "colab": {}
      },
      "source": [
        "df.isnull().sum().sort_values(ascending=False)"
      ],
      "execution_count": 0,
      "outputs": []
    },
    {
      "cell_type": "markdown",
      "metadata": {
        "id": "iaSEQ44DXjyv",
        "colab_type": "text"
      },
      "source": [
        "### Look for duplicate rows\n",
        "Run the code below to print out the duplicated rows."
      ]
    },
    {
      "cell_type": "code",
      "metadata": {
        "id": "xp2QsNvRXjyw",
        "colab_type": "code",
        "colab": {}
      },
      "source": [
        "duplicateRowsDF = df[df.duplicated()]\n",
        "duplicateRowsDF"
      ],
      "execution_count": 0,
      "outputs": []
    },
    {
      "cell_type": "markdown",
      "metadata": {
        "id": "ZjUZfe--AyYG",
        "colab_type": "text"
      },
      "source": [
        "Now delete the duplicates from the dataframe."
      ]
    },
    {
      "cell_type": "code",
      "metadata": {
        "id": "Mr48OUQjC--d",
        "colab_type": "code",
        "colab": {}
      },
      "source": [
        "df.drop_duplicates(keep=False, inplace=True)"
      ],
      "execution_count": 0,
      "outputs": []
    },
    {
      "cell_type": "markdown",
      "metadata": {
        "colab_type": "text",
        "id": "dWqT9uvWiypo"
      },
      "source": [
        "## Export clean data to a new csv file \n",
        "In order to bring the changes we made here into the next notebook we are going to write out the updated data frame to a new csv file."
      ]
    },
    {
      "cell_type": "markdown",
      "metadata": {
        "id": "1RYyQ5swXjy0",
        "colab_type": "text"
      },
      "source": [
        "<font color='DarkBlue'> **Export the processed dataframe as a csv file to the data folder we created earlier. Name this new csv file `step2_output.csv` and set the paramter, index=False.**</font>"
      ]
    },
    {
      "cell_type": "code",
      "metadata": {
        "colab_type": "code",
        "id": "M4lsWjImoc3C",
        "colab": {}
      },
      "source": [
        "df.to_csv('data/step2_output.csv',index=False)"
      ],
      "execution_count": 0,
      "outputs": []
    },
    {
      "cell_type": "markdown",
      "metadata": {
        "colab_type": "text",
        "id": "KGMPQOFolxvs"
      },
      "source": [
        "The data transformations created in this step of the DSM are all generally steps to be applied to any data science project. However, the decisions we made about how to handle the missing and NA data are specific to the problem at hand. In the next step of the DSM and the next Guided Capstone Notebook you will see how all these steps prepare the data for exploratory data analysis."
      ]
    }
  ]
}